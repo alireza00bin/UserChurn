{
  "nbformat": 4,
  "nbformat_minor": 0,
  "metadata": {
    "colab": {
      "provenance": [],
      "toc_visible": true
    },
    "kernelspec": {
      "name": "python3",
      "display_name": "Python 3"
    },
    "language_info": {
      "name": "python"
    }
  },
  "cells": [
    {
      "cell_type": "markdown",
      "source": [
        "## Import Essential Libraries"
      ],
      "metadata": {
        "id": "q3ag44NEa-pC"
      }
    },
    {
      "cell_type": "code",
      "execution_count": 1,
      "metadata": {
        "id": "BXV7csQdkKDe"
      },
      "outputs": [],
      "source": [
        "import numpy as np\n",
        "import pandas as pd\n",
        "import tensorflow as tf"
      ]
    },
    {
      "cell_type": "markdown",
      "source": [
        "## Install Kaggle for loading Data"
      ],
      "metadata": {
        "id": "Clq9m3G7bIww"
      }
    },
    {
      "cell_type": "code",
      "source": [
        "!pip install -q kaggle"
      ],
      "metadata": {
        "id": "FAjt9w37nMif"
      },
      "execution_count": 2,
      "outputs": []
    },
    {
      "cell_type": "code",
      "source": [
        "from google.colab import files\n",
        "files.upload()"
      ],
      "metadata": {
        "colab": {
          "base_uri": "https://localhost:8080/",
          "height": 89
        },
        "id": "eSRh8WXYnV5t",
        "outputId": "8db3a33f-3438-40c0-be34-adf349087f98"
      },
      "execution_count": 3,
      "outputs": [
        {
          "output_type": "display_data",
          "data": {
            "text/plain": [
              "<IPython.core.display.HTML object>"
            ],
            "text/html": [
              "\n",
              "     <input type=\"file\" id=\"files-8fdac71a-f067-4502-a281-322ca74375d2\" name=\"files[]\" multiple disabled\n",
              "        style=\"border:none\" />\n",
              "     <output id=\"result-8fdac71a-f067-4502-a281-322ca74375d2\">\n",
              "      Upload widget is only available when the cell has been executed in the\n",
              "      current browser session. Please rerun this cell to enable.\n",
              "      </output>\n",
              "      <script>// Copyright 2017 Google LLC\n",
              "//\n",
              "// Licensed under the Apache License, Version 2.0 (the \"License\");\n",
              "// you may not use this file except in compliance with the License.\n",
              "// You may obtain a copy of the License at\n",
              "//\n",
              "//      http://www.apache.org/licenses/LICENSE-2.0\n",
              "//\n",
              "// Unless required by applicable law or agreed to in writing, software\n",
              "// distributed under the License is distributed on an \"AS IS\" BASIS,\n",
              "// WITHOUT WARRANTIES OR CONDITIONS OF ANY KIND, either express or implied.\n",
              "// See the License for the specific language governing permissions and\n",
              "// limitations under the License.\n",
              "\n",
              "/**\n",
              " * @fileoverview Helpers for google.colab Python module.\n",
              " */\n",
              "(function(scope) {\n",
              "function span(text, styleAttributes = {}) {\n",
              "  const element = document.createElement('span');\n",
              "  element.textContent = text;\n",
              "  for (const key of Object.keys(styleAttributes)) {\n",
              "    element.style[key] = styleAttributes[key];\n",
              "  }\n",
              "  return element;\n",
              "}\n",
              "\n",
              "// Max number of bytes which will be uploaded at a time.\n",
              "const MAX_PAYLOAD_SIZE = 100 * 1024;\n",
              "\n",
              "function _uploadFiles(inputId, outputId) {\n",
              "  const steps = uploadFilesStep(inputId, outputId);\n",
              "  const outputElement = document.getElementById(outputId);\n",
              "  // Cache steps on the outputElement to make it available for the next call\n",
              "  // to uploadFilesContinue from Python.\n",
              "  outputElement.steps = steps;\n",
              "\n",
              "  return _uploadFilesContinue(outputId);\n",
              "}\n",
              "\n",
              "// This is roughly an async generator (not supported in the browser yet),\n",
              "// where there are multiple asynchronous steps and the Python side is going\n",
              "// to poll for completion of each step.\n",
              "// This uses a Promise to block the python side on completion of each step,\n",
              "// then passes the result of the previous step as the input to the next step.\n",
              "function _uploadFilesContinue(outputId) {\n",
              "  const outputElement = document.getElementById(outputId);\n",
              "  const steps = outputElement.steps;\n",
              "\n",
              "  const next = steps.next(outputElement.lastPromiseValue);\n",
              "  return Promise.resolve(next.value.promise).then((value) => {\n",
              "    // Cache the last promise value to make it available to the next\n",
              "    // step of the generator.\n",
              "    outputElement.lastPromiseValue = value;\n",
              "    return next.value.response;\n",
              "  });\n",
              "}\n",
              "\n",
              "/**\n",
              " * Generator function which is called between each async step of the upload\n",
              " * process.\n",
              " * @param {string} inputId Element ID of the input file picker element.\n",
              " * @param {string} outputId Element ID of the output display.\n",
              " * @return {!Iterable<!Object>} Iterable of next steps.\n",
              " */\n",
              "function* uploadFilesStep(inputId, outputId) {\n",
              "  const inputElement = document.getElementById(inputId);\n",
              "  inputElement.disabled = false;\n",
              "\n",
              "  const outputElement = document.getElementById(outputId);\n",
              "  outputElement.innerHTML = '';\n",
              "\n",
              "  const pickedPromise = new Promise((resolve) => {\n",
              "    inputElement.addEventListener('change', (e) => {\n",
              "      resolve(e.target.files);\n",
              "    });\n",
              "  });\n",
              "\n",
              "  const cancel = document.createElement('button');\n",
              "  inputElement.parentElement.appendChild(cancel);\n",
              "  cancel.textContent = 'Cancel upload';\n",
              "  const cancelPromise = new Promise((resolve) => {\n",
              "    cancel.onclick = () => {\n",
              "      resolve(null);\n",
              "    };\n",
              "  });\n",
              "\n",
              "  // Wait for the user to pick the files.\n",
              "  const files = yield {\n",
              "    promise: Promise.race([pickedPromise, cancelPromise]),\n",
              "    response: {\n",
              "      action: 'starting',\n",
              "    }\n",
              "  };\n",
              "\n",
              "  cancel.remove();\n",
              "\n",
              "  // Disable the input element since further picks are not allowed.\n",
              "  inputElement.disabled = true;\n",
              "\n",
              "  if (!files) {\n",
              "    return {\n",
              "      response: {\n",
              "        action: 'complete',\n",
              "      }\n",
              "    };\n",
              "  }\n",
              "\n",
              "  for (const file of files) {\n",
              "    const li = document.createElement('li');\n",
              "    li.append(span(file.name, {fontWeight: 'bold'}));\n",
              "    li.append(span(\n",
              "        `(${file.type || 'n/a'}) - ${file.size} bytes, ` +\n",
              "        `last modified: ${\n",
              "            file.lastModifiedDate ? file.lastModifiedDate.toLocaleDateString() :\n",
              "                                    'n/a'} - `));\n",
              "    const percent = span('0% done');\n",
              "    li.appendChild(percent);\n",
              "\n",
              "    outputElement.appendChild(li);\n",
              "\n",
              "    const fileDataPromise = new Promise((resolve) => {\n",
              "      const reader = new FileReader();\n",
              "      reader.onload = (e) => {\n",
              "        resolve(e.target.result);\n",
              "      };\n",
              "      reader.readAsArrayBuffer(file);\n",
              "    });\n",
              "    // Wait for the data to be ready.\n",
              "    let fileData = yield {\n",
              "      promise: fileDataPromise,\n",
              "      response: {\n",
              "        action: 'continue',\n",
              "      }\n",
              "    };\n",
              "\n",
              "    // Use a chunked sending to avoid message size limits. See b/62115660.\n",
              "    let position = 0;\n",
              "    do {\n",
              "      const length = Math.min(fileData.byteLength - position, MAX_PAYLOAD_SIZE);\n",
              "      const chunk = new Uint8Array(fileData, position, length);\n",
              "      position += length;\n",
              "\n",
              "      const base64 = btoa(String.fromCharCode.apply(null, chunk));\n",
              "      yield {\n",
              "        response: {\n",
              "          action: 'append',\n",
              "          file: file.name,\n",
              "          data: base64,\n",
              "        },\n",
              "      };\n",
              "\n",
              "      let percentDone = fileData.byteLength === 0 ?\n",
              "          100 :\n",
              "          Math.round((position / fileData.byteLength) * 100);\n",
              "      percent.textContent = `${percentDone}% done`;\n",
              "\n",
              "    } while (position < fileData.byteLength);\n",
              "  }\n",
              "\n",
              "  // All done.\n",
              "  yield {\n",
              "    response: {\n",
              "      action: 'complete',\n",
              "    }\n",
              "  };\n",
              "}\n",
              "\n",
              "scope.google = scope.google || {};\n",
              "scope.google.colab = scope.google.colab || {};\n",
              "scope.google.colab._files = {\n",
              "  _uploadFiles,\n",
              "  _uploadFilesContinue,\n",
              "};\n",
              "})(self);\n",
              "</script> "
            ]
          },
          "metadata": {}
        },
        {
          "output_type": "stream",
          "name": "stdout",
          "text": [
            "Saving kaggle.json to kaggle.json\n"
          ]
        },
        {
          "output_type": "execute_result",
          "data": {
            "text/plain": [
              "{'kaggle.json': b'{\"username\":\"alirezabinayiaan\",\"key\":\"e4252e5c64d017ba2aedfc49cd806616\"}'}"
            ]
          },
          "metadata": {},
          "execution_count": 3
        }
      ]
    },
    {
      "cell_type": "code",
      "source": [
        "!mkdir ~/.kaggle\n",
        "!cp kaggle.json ~/.kaggle/"
      ],
      "metadata": {
        "id": "VJybbM-enllk"
      },
      "execution_count": 4,
      "outputs": []
    },
    {
      "cell_type": "code",
      "source": [
        "!chmod 600 ~/.kaggle/kaggle.json"
      ],
      "metadata": {
        "id": "n5UCxBcEnres"
      },
      "execution_count": 5,
      "outputs": []
    },
    {
      "cell_type": "code",
      "source": [
        "!kaggle datasets download shrutimechlearn/churn-modelling"
      ],
      "metadata": {
        "id": "aw69MknhlSAi",
        "colab": {
          "base_uri": "https://localhost:8080/"
        },
        "outputId": "db4b228a-ecb5-49b2-c58a-d6efedc2f313"
      },
      "execution_count": 6,
      "outputs": [
        {
          "output_type": "stream",
          "name": "stdout",
          "text": [
            "Downloading churn-modelling.zip to /content\n",
            "\r  0% 0.00/262k [00:00<?, ?B/s]\n",
            "\r100% 262k/262k [00:00<00:00, 94.8MB/s]\n"
          ]
        }
      ]
    },
    {
      "cell_type": "code",
      "source": [
        "!ls"
      ],
      "metadata": {
        "colab": {
          "base_uri": "https://localhost:8080/"
        },
        "id": "aRAld7f7bWq6",
        "outputId": "45d90faa-85f5-41cd-de77-1824f779c4a1"
      },
      "execution_count": 7,
      "outputs": [
        {
          "output_type": "stream",
          "name": "stdout",
          "text": [
            "churn-modelling.zip  kaggle.json  sample_data\n"
          ]
        }
      ]
    },
    {
      "cell_type": "markdown",
      "source": [
        "### Unzip Dataset"
      ],
      "metadata": {
        "id": "f-6prmUabe4W"
      }
    },
    {
      "cell_type": "code",
      "source": [
        "!unzip churn-modelling.zip"
      ],
      "metadata": {
        "colab": {
          "base_uri": "https://localhost:8080/"
        },
        "id": "IpauMqFSodHO",
        "outputId": "1dc0c297-79ef-440a-869a-5da0d520fea4"
      },
      "execution_count": 8,
      "outputs": [
        {
          "output_type": "stream",
          "name": "stdout",
          "text": [
            "Archive:  churn-modelling.zip\n",
            "  inflating: Churn_Modelling.csv     \n"
          ]
        }
      ]
    },
    {
      "cell_type": "markdown",
      "source": [
        "## Read and Display Data"
      ],
      "metadata": {
        "id": "LdLca_mDbg8j"
      }
    },
    {
      "cell_type": "code",
      "source": [
        "df = pd.read_csv('Churn_Modelling.csv')\n",
        "df.head(10)"
      ],
      "metadata": {
        "id": "FVHb0XUPkRiB",
        "colab": {
          "base_uri": "https://localhost:8080/",
          "height": 427
        },
        "outputId": "37792240-2272-4fb3-ff5c-1829bfb6d656"
      },
      "execution_count": 9,
      "outputs": [
        {
          "output_type": "execute_result",
          "data": {
            "text/plain": [
              "   RowNumber  CustomerId   Surname  CreditScore Geography  Gender  Age  \\\n",
              "0          1    15634602  Hargrave          619    France  Female   42   \n",
              "1          2    15647311      Hill          608     Spain  Female   41   \n",
              "2          3    15619304      Onio          502    France  Female   42   \n",
              "3          4    15701354      Boni          699    France  Female   39   \n",
              "4          5    15737888  Mitchell          850     Spain  Female   43   \n",
              "5          6    15574012       Chu          645     Spain    Male   44   \n",
              "6          7    15592531  Bartlett          822    France    Male   50   \n",
              "7          8    15656148    Obinna          376   Germany  Female   29   \n",
              "8          9    15792365        He          501    France    Male   44   \n",
              "9         10    15592389        H?          684    France    Male   27   \n",
              "\n",
              "   Tenure    Balance  NumOfProducts  HasCrCard  IsActiveMember  \\\n",
              "0       2       0.00              1          1               1   \n",
              "1       1   83807.86              1          0               1   \n",
              "2       8  159660.80              3          1               0   \n",
              "3       1       0.00              2          0               0   \n",
              "4       2  125510.82              1          1               1   \n",
              "5       8  113755.78              2          1               0   \n",
              "6       7       0.00              2          1               1   \n",
              "7       4  115046.74              4          1               0   \n",
              "8       4  142051.07              2          0               1   \n",
              "9       2  134603.88              1          1               1   \n",
              "\n",
              "   EstimatedSalary  Exited  \n",
              "0        101348.88       1  \n",
              "1        112542.58       0  \n",
              "2        113931.57       1  \n",
              "3         93826.63       0  \n",
              "4         79084.10       0  \n",
              "5        149756.71       1  \n",
              "6         10062.80       0  \n",
              "7        119346.88       1  \n",
              "8         74940.50       0  \n",
              "9         71725.73       0  "
            ],
            "text/html": [
              "\n",
              "  <div id=\"df-0fd2b493-8909-45be-8d19-fcf3f32ec905\">\n",
              "    <div class=\"colab-df-container\">\n",
              "      <div>\n",
              "<style scoped>\n",
              "    .dataframe tbody tr th:only-of-type {\n",
              "        vertical-align: middle;\n",
              "    }\n",
              "\n",
              "    .dataframe tbody tr th {\n",
              "        vertical-align: top;\n",
              "    }\n",
              "\n",
              "    .dataframe thead th {\n",
              "        text-align: right;\n",
              "    }\n",
              "</style>\n",
              "<table border=\"1\" class=\"dataframe\">\n",
              "  <thead>\n",
              "    <tr style=\"text-align: right;\">\n",
              "      <th></th>\n",
              "      <th>RowNumber</th>\n",
              "      <th>CustomerId</th>\n",
              "      <th>Surname</th>\n",
              "      <th>CreditScore</th>\n",
              "      <th>Geography</th>\n",
              "      <th>Gender</th>\n",
              "      <th>Age</th>\n",
              "      <th>Tenure</th>\n",
              "      <th>Balance</th>\n",
              "      <th>NumOfProducts</th>\n",
              "      <th>HasCrCard</th>\n",
              "      <th>IsActiveMember</th>\n",
              "      <th>EstimatedSalary</th>\n",
              "      <th>Exited</th>\n",
              "    </tr>\n",
              "  </thead>\n",
              "  <tbody>\n",
              "    <tr>\n",
              "      <th>0</th>\n",
              "      <td>1</td>\n",
              "      <td>15634602</td>\n",
              "      <td>Hargrave</td>\n",
              "      <td>619</td>\n",
              "      <td>France</td>\n",
              "      <td>Female</td>\n",
              "      <td>42</td>\n",
              "      <td>2</td>\n",
              "      <td>0.00</td>\n",
              "      <td>1</td>\n",
              "      <td>1</td>\n",
              "      <td>1</td>\n",
              "      <td>101348.88</td>\n",
              "      <td>1</td>\n",
              "    </tr>\n",
              "    <tr>\n",
              "      <th>1</th>\n",
              "      <td>2</td>\n",
              "      <td>15647311</td>\n",
              "      <td>Hill</td>\n",
              "      <td>608</td>\n",
              "      <td>Spain</td>\n",
              "      <td>Female</td>\n",
              "      <td>41</td>\n",
              "      <td>1</td>\n",
              "      <td>83807.86</td>\n",
              "      <td>1</td>\n",
              "      <td>0</td>\n",
              "      <td>1</td>\n",
              "      <td>112542.58</td>\n",
              "      <td>0</td>\n",
              "    </tr>\n",
              "    <tr>\n",
              "      <th>2</th>\n",
              "      <td>3</td>\n",
              "      <td>15619304</td>\n",
              "      <td>Onio</td>\n",
              "      <td>502</td>\n",
              "      <td>France</td>\n",
              "      <td>Female</td>\n",
              "      <td>42</td>\n",
              "      <td>8</td>\n",
              "      <td>159660.80</td>\n",
              "      <td>3</td>\n",
              "      <td>1</td>\n",
              "      <td>0</td>\n",
              "      <td>113931.57</td>\n",
              "      <td>1</td>\n",
              "    </tr>\n",
              "    <tr>\n",
              "      <th>3</th>\n",
              "      <td>4</td>\n",
              "      <td>15701354</td>\n",
              "      <td>Boni</td>\n",
              "      <td>699</td>\n",
              "      <td>France</td>\n",
              "      <td>Female</td>\n",
              "      <td>39</td>\n",
              "      <td>1</td>\n",
              "      <td>0.00</td>\n",
              "      <td>2</td>\n",
              "      <td>0</td>\n",
              "      <td>0</td>\n",
              "      <td>93826.63</td>\n",
              "      <td>0</td>\n",
              "    </tr>\n",
              "    <tr>\n",
              "      <th>4</th>\n",
              "      <td>5</td>\n",
              "      <td>15737888</td>\n",
              "      <td>Mitchell</td>\n",
              "      <td>850</td>\n",
              "      <td>Spain</td>\n",
              "      <td>Female</td>\n",
              "      <td>43</td>\n",
              "      <td>2</td>\n",
              "      <td>125510.82</td>\n",
              "      <td>1</td>\n",
              "      <td>1</td>\n",
              "      <td>1</td>\n",
              "      <td>79084.10</td>\n",
              "      <td>0</td>\n",
              "    </tr>\n",
              "    <tr>\n",
              "      <th>5</th>\n",
              "      <td>6</td>\n",
              "      <td>15574012</td>\n",
              "      <td>Chu</td>\n",
              "      <td>645</td>\n",
              "      <td>Spain</td>\n",
              "      <td>Male</td>\n",
              "      <td>44</td>\n",
              "      <td>8</td>\n",
              "      <td>113755.78</td>\n",
              "      <td>2</td>\n",
              "      <td>1</td>\n",
              "      <td>0</td>\n",
              "      <td>149756.71</td>\n",
              "      <td>1</td>\n",
              "    </tr>\n",
              "    <tr>\n",
              "      <th>6</th>\n",
              "      <td>7</td>\n",
              "      <td>15592531</td>\n",
              "      <td>Bartlett</td>\n",
              "      <td>822</td>\n",
              "      <td>France</td>\n",
              "      <td>Male</td>\n",
              "      <td>50</td>\n",
              "      <td>7</td>\n",
              "      <td>0.00</td>\n",
              "      <td>2</td>\n",
              "      <td>1</td>\n",
              "      <td>1</td>\n",
              "      <td>10062.80</td>\n",
              "      <td>0</td>\n",
              "    </tr>\n",
              "    <tr>\n",
              "      <th>7</th>\n",
              "      <td>8</td>\n",
              "      <td>15656148</td>\n",
              "      <td>Obinna</td>\n",
              "      <td>376</td>\n",
              "      <td>Germany</td>\n",
              "      <td>Female</td>\n",
              "      <td>29</td>\n",
              "      <td>4</td>\n",
              "      <td>115046.74</td>\n",
              "      <td>4</td>\n",
              "      <td>1</td>\n",
              "      <td>0</td>\n",
              "      <td>119346.88</td>\n",
              "      <td>1</td>\n",
              "    </tr>\n",
              "    <tr>\n",
              "      <th>8</th>\n",
              "      <td>9</td>\n",
              "      <td>15792365</td>\n",
              "      <td>He</td>\n",
              "      <td>501</td>\n",
              "      <td>France</td>\n",
              "      <td>Male</td>\n",
              "      <td>44</td>\n",
              "      <td>4</td>\n",
              "      <td>142051.07</td>\n",
              "      <td>2</td>\n",
              "      <td>0</td>\n",
              "      <td>1</td>\n",
              "      <td>74940.50</td>\n",
              "      <td>0</td>\n",
              "    </tr>\n",
              "    <tr>\n",
              "      <th>9</th>\n",
              "      <td>10</td>\n",
              "      <td>15592389</td>\n",
              "      <td>H?</td>\n",
              "      <td>684</td>\n",
              "      <td>France</td>\n",
              "      <td>Male</td>\n",
              "      <td>27</td>\n",
              "      <td>2</td>\n",
              "      <td>134603.88</td>\n",
              "      <td>1</td>\n",
              "      <td>1</td>\n",
              "      <td>1</td>\n",
              "      <td>71725.73</td>\n",
              "      <td>0</td>\n",
              "    </tr>\n",
              "  </tbody>\n",
              "</table>\n",
              "</div>\n",
              "      <button class=\"colab-df-convert\" onclick=\"convertToInteractive('df-0fd2b493-8909-45be-8d19-fcf3f32ec905')\"\n",
              "              title=\"Convert this dataframe to an interactive table.\"\n",
              "              style=\"display:none;\">\n",
              "        \n",
              "  <svg xmlns=\"http://www.w3.org/2000/svg\" height=\"24px\"viewBox=\"0 0 24 24\"\n",
              "       width=\"24px\">\n",
              "    <path d=\"M0 0h24v24H0V0z\" fill=\"none\"/>\n",
              "    <path d=\"M18.56 5.44l.94 2.06.94-2.06 2.06-.94-2.06-.94-.94-2.06-.94 2.06-2.06.94zm-11 1L8.5 8.5l.94-2.06 2.06-.94-2.06-.94L8.5 2.5l-.94 2.06-2.06.94zm10 10l.94 2.06.94-2.06 2.06-.94-2.06-.94-.94-2.06-.94 2.06-2.06.94z\"/><path d=\"M17.41 7.96l-1.37-1.37c-.4-.4-.92-.59-1.43-.59-.52 0-1.04.2-1.43.59L10.3 9.45l-7.72 7.72c-.78.78-.78 2.05 0 2.83L4 21.41c.39.39.9.59 1.41.59.51 0 1.02-.2 1.41-.59l7.78-7.78 2.81-2.81c.8-.78.8-2.07 0-2.86zM5.41 20L4 18.59l7.72-7.72 1.47 1.35L5.41 20z\"/>\n",
              "  </svg>\n",
              "      </button>\n",
              "      \n",
              "  <style>\n",
              "    .colab-df-container {\n",
              "      display:flex;\n",
              "      flex-wrap:wrap;\n",
              "      gap: 12px;\n",
              "    }\n",
              "\n",
              "    .colab-df-convert {\n",
              "      background-color: #E8F0FE;\n",
              "      border: none;\n",
              "      border-radius: 50%;\n",
              "      cursor: pointer;\n",
              "      display: none;\n",
              "      fill: #1967D2;\n",
              "      height: 32px;\n",
              "      padding: 0 0 0 0;\n",
              "      width: 32px;\n",
              "    }\n",
              "\n",
              "    .colab-df-convert:hover {\n",
              "      background-color: #E2EBFA;\n",
              "      box-shadow: 0px 1px 2px rgba(60, 64, 67, 0.3), 0px 1px 3px 1px rgba(60, 64, 67, 0.15);\n",
              "      fill: #174EA6;\n",
              "    }\n",
              "\n",
              "    [theme=dark] .colab-df-convert {\n",
              "      background-color: #3B4455;\n",
              "      fill: #D2E3FC;\n",
              "    }\n",
              "\n",
              "    [theme=dark] .colab-df-convert:hover {\n",
              "      background-color: #434B5C;\n",
              "      box-shadow: 0px 1px 3px 1px rgba(0, 0, 0, 0.15);\n",
              "      filter: drop-shadow(0px 1px 2px rgba(0, 0, 0, 0.3));\n",
              "      fill: #FFFFFF;\n",
              "    }\n",
              "  </style>\n",
              "\n",
              "      <script>\n",
              "        const buttonEl =\n",
              "          document.querySelector('#df-0fd2b493-8909-45be-8d19-fcf3f32ec905 button.colab-df-convert');\n",
              "        buttonEl.style.display =\n",
              "          google.colab.kernel.accessAllowed ? 'block' : 'none';\n",
              "\n",
              "        async function convertToInteractive(key) {\n",
              "          const element = document.querySelector('#df-0fd2b493-8909-45be-8d19-fcf3f32ec905');\n",
              "          const dataTable =\n",
              "            await google.colab.kernel.invokeFunction('convertToInteractive',\n",
              "                                                     [key], {});\n",
              "          if (!dataTable) return;\n",
              "\n",
              "          const docLinkHtml = 'Like what you see? Visit the ' +\n",
              "            '<a target=\"_blank\" href=https://colab.research.google.com/notebooks/data_table.ipynb>data table notebook</a>'\n",
              "            + ' to learn more about interactive tables.';\n",
              "          element.innerHTML = '';\n",
              "          dataTable['output_type'] = 'display_data';\n",
              "          await google.colab.output.renderOutput(dataTable, element);\n",
              "          const docLink = document.createElement('div');\n",
              "          docLink.innerHTML = docLinkHtml;\n",
              "          element.appendChild(docLink);\n",
              "        }\n",
              "      </script>\n",
              "    </div>\n",
              "  </div>\n",
              "  "
            ]
          },
          "metadata": {},
          "execution_count": 9
        }
      ]
    },
    {
      "cell_type": "code",
      "source": [
        "df.shape"
      ],
      "metadata": {
        "colab": {
          "base_uri": "https://localhost:8080/"
        },
        "id": "AOCYBwcuouhI",
        "outputId": "17cf3f00-d33e-41b1-f3ca-36345a85b720"
      },
      "execution_count": 10,
      "outputs": [
        {
          "output_type": "execute_result",
          "data": {
            "text/plain": [
              "(10000, 14)"
            ]
          },
          "metadata": {},
          "execution_count": 10
        }
      ]
    },
    {
      "cell_type": "markdown",
      "source": [
        "## Drop Nan value"
      ],
      "metadata": {
        "id": "TopAQe0BbxOp"
      }
    },
    {
      "cell_type": "code",
      "source": [
        "df = df.dropna()\n",
        "df.shape"
      ],
      "metadata": {
        "colab": {
          "base_uri": "https://localhost:8080/"
        },
        "id": "eXnQI7vXpoZ7",
        "outputId": "7bafaf59-0a84-4fc7-c67b-33db22a5261d"
      },
      "execution_count": 11,
      "outputs": [
        {
          "output_type": "execute_result",
          "data": {
            "text/plain": [
              "(10000, 14)"
            ]
          },
          "metadata": {},
          "execution_count": 11
        }
      ]
    },
    {
      "cell_type": "markdown",
      "source": [
        "some of columns are not necessary, like:\n",
        "\n",
        "- RowNumber\n",
        "- CustomerID\n",
        "- Surname\n",
        "\n",
        "so we sperate our features and target"
      ],
      "metadata": {
        "id": "UqlPeal-qa6N"
      }
    },
    {
      "cell_type": "code",
      "source": [
        "y = df['Exited'].values\n",
        "x = df.iloc[:, 3:-1].values"
      ],
      "metadata": {
        "id": "dEhk9_jrpBHW"
      },
      "execution_count": 12,
      "outputs": []
    },
    {
      "cell_type": "code",
      "source": [
        "print(y.shape)\n",
        "print(x.shape)"
      ],
      "metadata": {
        "colab": {
          "base_uri": "https://localhost:8080/"
        },
        "id": "GdPoXRlEpczW",
        "outputId": "cc29995c-a3a2-4ba3-eac9-31a2379c5c4f"
      },
      "execution_count": 13,
      "outputs": [
        {
          "output_type": "stream",
          "name": "stdout",
          "text": [
            "(10000,)\n",
            "(10000, 10)\n"
          ]
        }
      ]
    },
    {
      "cell_type": "markdown",
      "source": [
        "## Encoding Categorical Data"
      ],
      "metadata": {
        "id": "CU20796RlzQb"
      }
    },
    {
      "cell_type": "markdown",
      "source": [
        "### Label Encoding"
      ],
      "metadata": {
        "id": "bWgCfYq-l4n8"
      }
    },
    {
      "cell_type": "markdown",
      "source": [
        "For Gender column we use Label Encoder"
      ],
      "metadata": {
        "id": "uXrk0CyWcGJN"
      }
    },
    {
      "cell_type": "code",
      "source": [
        "from sklearn.preprocessing import  LabelEncoder\n",
        "le = LabelEncoder()\n",
        "x[:,2] = le.fit_transform(x[:,2])"
      ],
      "metadata": {
        "id": "uE3Rh1mUlxsf"
      },
      "execution_count": 14,
      "outputs": []
    },
    {
      "cell_type": "markdown",
      "source": [
        "### One Hot Encoding"
      ],
      "metadata": {
        "id": "2E23oxQ7plx4"
      }
    },
    {
      "cell_type": "markdown",
      "source": [
        "For Country column We use One-Hot Encoder"
      ],
      "metadata": {
        "id": "x7fKQjMzcSiq"
      }
    },
    {
      "cell_type": "code",
      "source": [
        "from sklearn.preprocessing import OneHotEncoder\n",
        "from sklearn.compose import ColumnTransformer\n",
        "ct = ColumnTransformer(transformers=[('encoder', OneHotEncoder(), [1])], remainder='passthrough')"
      ],
      "metadata": {
        "id": "HRisdDiLlxiv"
      },
      "execution_count": 15,
      "outputs": []
    },
    {
      "cell_type": "code",
      "source": [
        "x = ct.fit_transform(x)"
      ],
      "metadata": {
        "id": "n4tvZ-V8lxBV"
      },
      "execution_count": 16,
      "outputs": []
    },
    {
      "cell_type": "markdown",
      "source": [
        "## Feature Scaling"
      ],
      "metadata": {
        "id": "Nw3GrDITHzl1"
      }
    },
    {
      "cell_type": "code",
      "source": [
        "from sklearn.preprocessing import StandardScaler\n",
        "sc = StandardScaler()\n",
        "x = sc.fit_transform(x)"
      ],
      "metadata": {
        "id": "mle1N2gIHZp1"
      },
      "execution_count": 17,
      "outputs": []
    },
    {
      "cell_type": "markdown",
      "source": [
        "## Splitting Data into Train set and Test set"
      ],
      "metadata": {
        "id": "tDfU24hYG2Sf"
      }
    },
    {
      "cell_type": "code",
      "source": [
        "from sklearn.model_selection import train_test_split\n",
        "X_train, X_test, y_train, y_test = train_test_split(x, y, test_size=0.2, random_state=0)"
      ],
      "metadata": {
        "id": "7mzJSr4IpyYM"
      },
      "execution_count": 18,
      "outputs": []
    },
    {
      "cell_type": "code",
      "source": [
        "print(X_train.shape)\n",
        "print(y_train.shape)\n",
        "print(X_test.shape)\n",
        "print(y_test.shape)"
      ],
      "metadata": {
        "colab": {
          "base_uri": "https://localhost:8080/"
        },
        "id": "JERKuhBuIXUp",
        "outputId": "7eaf6748-fc70-4690-ec2c-778f34c3b32f"
      },
      "execution_count": 19,
      "outputs": [
        {
          "output_type": "stream",
          "name": "stdout",
          "text": [
            "(8000, 12)\n",
            "(8000,)\n",
            "(2000, 12)\n",
            "(2000,)\n"
          ]
        }
      ]
    },
    {
      "cell_type": "markdown",
      "source": [
        "## Using Logistic Regression Algorithm to the Training Set"
      ],
      "metadata": {
        "id": "jiw_cwViJfQj"
      }
    },
    {
      "cell_type": "code",
      "source": [
        "from sklearn.linear_model import LogisticRegression\n",
        "from sklearn.metrics import accuracy_score\n",
        "classifier_LR = LogisticRegression(random_state = 0)\n",
        "classifier_LR.fit(X_train, y_train)"
      ],
      "metadata": {
        "colab": {
          "base_uri": "https://localhost:8080/"
        },
        "id": "zPBf9c6gRl7S",
        "outputId": "174252d1-b4c0-4310-be43-34ef5ff267f2"
      },
      "execution_count": 20,
      "outputs": [
        {
          "output_type": "execute_result",
          "data": {
            "text/plain": [
              "LogisticRegression(random_state=0)"
            ]
          },
          "metadata": {},
          "execution_count": 20
        }
      ]
    },
    {
      "cell_type": "code",
      "source": [
        "y_pred_lr = classifier_LR.predict(X_test)\n",
        "print(accuracy_score(y_test, y_pred_lr))"
      ],
      "metadata": {
        "colab": {
          "base_uri": "https://localhost:8080/"
        },
        "id": "OWFsvW-mL0Sh",
        "outputId": "2b529167-09c6-4c91-dddb-f9330e5a336d"
      },
      "execution_count": 21,
      "outputs": [
        {
          "output_type": "stream",
          "name": "stdout",
          "text": [
            "0.811\n"
          ]
        }
      ]
    },
    {
      "cell_type": "code",
      "source": [
        "dframe = pd.DataFrame({'Actual': y_test, 'Predicted': y_pred_lr})\n",
        "dframe.head(10)"
      ],
      "metadata": {
        "colab": {
          "base_uri": "https://localhost:8080/",
          "height": 363
        },
        "id": "P9Uvj1v1L44W",
        "outputId": "62c13d03-8bc6-4efb-a5cf-494747adb817"
      },
      "execution_count": 22,
      "outputs": [
        {
          "output_type": "execute_result",
          "data": {
            "text/plain": [
              "   Actual  Predicted\n",
              "0       0          0\n",
              "1       1          0\n",
              "2       0          0\n",
              "3       0          0\n",
              "4       0          0\n",
              "5       1          1\n",
              "6       0          0\n",
              "7       0          0\n",
              "8       1          0\n",
              "9       1          1"
            ],
            "text/html": [
              "\n",
              "  <div id=\"df-12253ab2-ac23-44e9-8a98-0527317066e9\">\n",
              "    <div class=\"colab-df-container\">\n",
              "      <div>\n",
              "<style scoped>\n",
              "    .dataframe tbody tr th:only-of-type {\n",
              "        vertical-align: middle;\n",
              "    }\n",
              "\n",
              "    .dataframe tbody tr th {\n",
              "        vertical-align: top;\n",
              "    }\n",
              "\n",
              "    .dataframe thead th {\n",
              "        text-align: right;\n",
              "    }\n",
              "</style>\n",
              "<table border=\"1\" class=\"dataframe\">\n",
              "  <thead>\n",
              "    <tr style=\"text-align: right;\">\n",
              "      <th></th>\n",
              "      <th>Actual</th>\n",
              "      <th>Predicted</th>\n",
              "    </tr>\n",
              "  </thead>\n",
              "  <tbody>\n",
              "    <tr>\n",
              "      <th>0</th>\n",
              "      <td>0</td>\n",
              "      <td>0</td>\n",
              "    </tr>\n",
              "    <tr>\n",
              "      <th>1</th>\n",
              "      <td>1</td>\n",
              "      <td>0</td>\n",
              "    </tr>\n",
              "    <tr>\n",
              "      <th>2</th>\n",
              "      <td>0</td>\n",
              "      <td>0</td>\n",
              "    </tr>\n",
              "    <tr>\n",
              "      <th>3</th>\n",
              "      <td>0</td>\n",
              "      <td>0</td>\n",
              "    </tr>\n",
              "    <tr>\n",
              "      <th>4</th>\n",
              "      <td>0</td>\n",
              "      <td>0</td>\n",
              "    </tr>\n",
              "    <tr>\n",
              "      <th>5</th>\n",
              "      <td>1</td>\n",
              "      <td>1</td>\n",
              "    </tr>\n",
              "    <tr>\n",
              "      <th>6</th>\n",
              "      <td>0</td>\n",
              "      <td>0</td>\n",
              "    </tr>\n",
              "    <tr>\n",
              "      <th>7</th>\n",
              "      <td>0</td>\n",
              "      <td>0</td>\n",
              "    </tr>\n",
              "    <tr>\n",
              "      <th>8</th>\n",
              "      <td>1</td>\n",
              "      <td>0</td>\n",
              "    </tr>\n",
              "    <tr>\n",
              "      <th>9</th>\n",
              "      <td>1</td>\n",
              "      <td>1</td>\n",
              "    </tr>\n",
              "  </tbody>\n",
              "</table>\n",
              "</div>\n",
              "      <button class=\"colab-df-convert\" onclick=\"convertToInteractive('df-12253ab2-ac23-44e9-8a98-0527317066e9')\"\n",
              "              title=\"Convert this dataframe to an interactive table.\"\n",
              "              style=\"display:none;\">\n",
              "        \n",
              "  <svg xmlns=\"http://www.w3.org/2000/svg\" height=\"24px\"viewBox=\"0 0 24 24\"\n",
              "       width=\"24px\">\n",
              "    <path d=\"M0 0h24v24H0V0z\" fill=\"none\"/>\n",
              "    <path d=\"M18.56 5.44l.94 2.06.94-2.06 2.06-.94-2.06-.94-.94-2.06-.94 2.06-2.06.94zm-11 1L8.5 8.5l.94-2.06 2.06-.94-2.06-.94L8.5 2.5l-.94 2.06-2.06.94zm10 10l.94 2.06.94-2.06 2.06-.94-2.06-.94-.94-2.06-.94 2.06-2.06.94z\"/><path d=\"M17.41 7.96l-1.37-1.37c-.4-.4-.92-.59-1.43-.59-.52 0-1.04.2-1.43.59L10.3 9.45l-7.72 7.72c-.78.78-.78 2.05 0 2.83L4 21.41c.39.39.9.59 1.41.59.51 0 1.02-.2 1.41-.59l7.78-7.78 2.81-2.81c.8-.78.8-2.07 0-2.86zM5.41 20L4 18.59l7.72-7.72 1.47 1.35L5.41 20z\"/>\n",
              "  </svg>\n",
              "      </button>\n",
              "      \n",
              "  <style>\n",
              "    .colab-df-container {\n",
              "      display:flex;\n",
              "      flex-wrap:wrap;\n",
              "      gap: 12px;\n",
              "    }\n",
              "\n",
              "    .colab-df-convert {\n",
              "      background-color: #E8F0FE;\n",
              "      border: none;\n",
              "      border-radius: 50%;\n",
              "      cursor: pointer;\n",
              "      display: none;\n",
              "      fill: #1967D2;\n",
              "      height: 32px;\n",
              "      padding: 0 0 0 0;\n",
              "      width: 32px;\n",
              "    }\n",
              "\n",
              "    .colab-df-convert:hover {\n",
              "      background-color: #E2EBFA;\n",
              "      box-shadow: 0px 1px 2px rgba(60, 64, 67, 0.3), 0px 1px 3px 1px rgba(60, 64, 67, 0.15);\n",
              "      fill: #174EA6;\n",
              "    }\n",
              "\n",
              "    [theme=dark] .colab-df-convert {\n",
              "      background-color: #3B4455;\n",
              "      fill: #D2E3FC;\n",
              "    }\n",
              "\n",
              "    [theme=dark] .colab-df-convert:hover {\n",
              "      background-color: #434B5C;\n",
              "      box-shadow: 0px 1px 3px 1px rgba(0, 0, 0, 0.15);\n",
              "      filter: drop-shadow(0px 1px 2px rgba(0, 0, 0, 0.3));\n",
              "      fill: #FFFFFF;\n",
              "    }\n",
              "  </style>\n",
              "\n",
              "      <script>\n",
              "        const buttonEl =\n",
              "          document.querySelector('#df-12253ab2-ac23-44e9-8a98-0527317066e9 button.colab-df-convert');\n",
              "        buttonEl.style.display =\n",
              "          google.colab.kernel.accessAllowed ? 'block' : 'none';\n",
              "\n",
              "        async function convertToInteractive(key) {\n",
              "          const element = document.querySelector('#df-12253ab2-ac23-44e9-8a98-0527317066e9');\n",
              "          const dataTable =\n",
              "            await google.colab.kernel.invokeFunction('convertToInteractive',\n",
              "                                                     [key], {});\n",
              "          if (!dataTable) return;\n",
              "\n",
              "          const docLinkHtml = 'Like what you see? Visit the ' +\n",
              "            '<a target=\"_blank\" href=https://colab.research.google.com/notebooks/data_table.ipynb>data table notebook</a>'\n",
              "            + ' to learn more about interactive tables.';\n",
              "          element.innerHTML = '';\n",
              "          dataTable['output_type'] = 'display_data';\n",
              "          await google.colab.output.renderOutput(dataTable, element);\n",
              "          const docLink = document.createElement('div');\n",
              "          docLink.innerHTML = docLinkHtml;\n",
              "          element.appendChild(docLink);\n",
              "        }\n",
              "      </script>\n",
              "    </div>\n",
              "  </div>\n",
              "  "
            ]
          },
          "metadata": {},
          "execution_count": 22
        }
      ]
    },
    {
      "cell_type": "markdown",
      "source": [
        "## Using Support Vector Machine Algorithm to the Training Set"
      ],
      "metadata": {
        "id": "lU22YZKMJmmJ"
      }
    },
    {
      "cell_type": "code",
      "source": [
        "from sklearn.svm import SVC\n",
        "classifier_SVM = SVC(kernel = 'linear', random_state = 0)\n",
        "classifier_SVM.fit(X_train, y_train)"
      ],
      "metadata": {
        "colab": {
          "base_uri": "https://localhost:8080/"
        },
        "id": "wuFtyBipVQFJ",
        "outputId": "27090657-657d-4907-c9b8-bf2e3d42b8c2"
      },
      "execution_count": 23,
      "outputs": [
        {
          "output_type": "execute_result",
          "data": {
            "text/plain": [
              "SVC(kernel='linear', random_state=0)"
            ]
          },
          "metadata": {},
          "execution_count": 23
        }
      ]
    },
    {
      "cell_type": "code",
      "source": [
        "y_pred_svm = classifier_SVM.predict(X_test)\n",
        "print(accuracy_score(y_test, y_pred_svm))"
      ],
      "metadata": {
        "colab": {
          "base_uri": "https://localhost:8080/"
        },
        "id": "CJWZ4tWMVrWQ",
        "outputId": "779de556-b8eb-491d-b38f-a82cebf2f918"
      },
      "execution_count": 24,
      "outputs": [
        {
          "output_type": "stream",
          "name": "stdout",
          "text": [
            "0.7975\n"
          ]
        }
      ]
    },
    {
      "cell_type": "code",
      "source": [
        "dframe = pd.DataFrame({'Actual': y_test, 'Predicted': y_pred_svm})\n",
        "dframe.head(10)"
      ],
      "metadata": {
        "colab": {
          "base_uri": "https://localhost:8080/",
          "height": 363
        },
        "id": "mdCFJf9ldKOV",
        "outputId": "9b5d2f66-905f-4d50-adef-2f10e4739cee"
      },
      "execution_count": 25,
      "outputs": [
        {
          "output_type": "execute_result",
          "data": {
            "text/plain": [
              "   Actual  Predicted\n",
              "0       0          0\n",
              "1       1          0\n",
              "2       0          0\n",
              "3       0          0\n",
              "4       0          0\n",
              "5       1          0\n",
              "6       0          0\n",
              "7       0          0\n",
              "8       1          0\n",
              "9       1          0"
            ],
            "text/html": [
              "\n",
              "  <div id=\"df-71f8ab7c-3ff9-462d-8605-6dd2f30613e3\">\n",
              "    <div class=\"colab-df-container\">\n",
              "      <div>\n",
              "<style scoped>\n",
              "    .dataframe tbody tr th:only-of-type {\n",
              "        vertical-align: middle;\n",
              "    }\n",
              "\n",
              "    .dataframe tbody tr th {\n",
              "        vertical-align: top;\n",
              "    }\n",
              "\n",
              "    .dataframe thead th {\n",
              "        text-align: right;\n",
              "    }\n",
              "</style>\n",
              "<table border=\"1\" class=\"dataframe\">\n",
              "  <thead>\n",
              "    <tr style=\"text-align: right;\">\n",
              "      <th></th>\n",
              "      <th>Actual</th>\n",
              "      <th>Predicted</th>\n",
              "    </tr>\n",
              "  </thead>\n",
              "  <tbody>\n",
              "    <tr>\n",
              "      <th>0</th>\n",
              "      <td>0</td>\n",
              "      <td>0</td>\n",
              "    </tr>\n",
              "    <tr>\n",
              "      <th>1</th>\n",
              "      <td>1</td>\n",
              "      <td>0</td>\n",
              "    </tr>\n",
              "    <tr>\n",
              "      <th>2</th>\n",
              "      <td>0</td>\n",
              "      <td>0</td>\n",
              "    </tr>\n",
              "    <tr>\n",
              "      <th>3</th>\n",
              "      <td>0</td>\n",
              "      <td>0</td>\n",
              "    </tr>\n",
              "    <tr>\n",
              "      <th>4</th>\n",
              "      <td>0</td>\n",
              "      <td>0</td>\n",
              "    </tr>\n",
              "    <tr>\n",
              "      <th>5</th>\n",
              "      <td>1</td>\n",
              "      <td>0</td>\n",
              "    </tr>\n",
              "    <tr>\n",
              "      <th>6</th>\n",
              "      <td>0</td>\n",
              "      <td>0</td>\n",
              "    </tr>\n",
              "    <tr>\n",
              "      <th>7</th>\n",
              "      <td>0</td>\n",
              "      <td>0</td>\n",
              "    </tr>\n",
              "    <tr>\n",
              "      <th>8</th>\n",
              "      <td>1</td>\n",
              "      <td>0</td>\n",
              "    </tr>\n",
              "    <tr>\n",
              "      <th>9</th>\n",
              "      <td>1</td>\n",
              "      <td>0</td>\n",
              "    </tr>\n",
              "  </tbody>\n",
              "</table>\n",
              "</div>\n",
              "      <button class=\"colab-df-convert\" onclick=\"convertToInteractive('df-71f8ab7c-3ff9-462d-8605-6dd2f30613e3')\"\n",
              "              title=\"Convert this dataframe to an interactive table.\"\n",
              "              style=\"display:none;\">\n",
              "        \n",
              "  <svg xmlns=\"http://www.w3.org/2000/svg\" height=\"24px\"viewBox=\"0 0 24 24\"\n",
              "       width=\"24px\">\n",
              "    <path d=\"M0 0h24v24H0V0z\" fill=\"none\"/>\n",
              "    <path d=\"M18.56 5.44l.94 2.06.94-2.06 2.06-.94-2.06-.94-.94-2.06-.94 2.06-2.06.94zm-11 1L8.5 8.5l.94-2.06 2.06-.94-2.06-.94L8.5 2.5l-.94 2.06-2.06.94zm10 10l.94 2.06.94-2.06 2.06-.94-2.06-.94-.94-2.06-.94 2.06-2.06.94z\"/><path d=\"M17.41 7.96l-1.37-1.37c-.4-.4-.92-.59-1.43-.59-.52 0-1.04.2-1.43.59L10.3 9.45l-7.72 7.72c-.78.78-.78 2.05 0 2.83L4 21.41c.39.39.9.59 1.41.59.51 0 1.02-.2 1.41-.59l7.78-7.78 2.81-2.81c.8-.78.8-2.07 0-2.86zM5.41 20L4 18.59l7.72-7.72 1.47 1.35L5.41 20z\"/>\n",
              "  </svg>\n",
              "      </button>\n",
              "      \n",
              "  <style>\n",
              "    .colab-df-container {\n",
              "      display:flex;\n",
              "      flex-wrap:wrap;\n",
              "      gap: 12px;\n",
              "    }\n",
              "\n",
              "    .colab-df-convert {\n",
              "      background-color: #E8F0FE;\n",
              "      border: none;\n",
              "      border-radius: 50%;\n",
              "      cursor: pointer;\n",
              "      display: none;\n",
              "      fill: #1967D2;\n",
              "      height: 32px;\n",
              "      padding: 0 0 0 0;\n",
              "      width: 32px;\n",
              "    }\n",
              "\n",
              "    .colab-df-convert:hover {\n",
              "      background-color: #E2EBFA;\n",
              "      box-shadow: 0px 1px 2px rgba(60, 64, 67, 0.3), 0px 1px 3px 1px rgba(60, 64, 67, 0.15);\n",
              "      fill: #174EA6;\n",
              "    }\n",
              "\n",
              "    [theme=dark] .colab-df-convert {\n",
              "      background-color: #3B4455;\n",
              "      fill: #D2E3FC;\n",
              "    }\n",
              "\n",
              "    [theme=dark] .colab-df-convert:hover {\n",
              "      background-color: #434B5C;\n",
              "      box-shadow: 0px 1px 3px 1px rgba(0, 0, 0, 0.15);\n",
              "      filter: drop-shadow(0px 1px 2px rgba(0, 0, 0, 0.3));\n",
              "      fill: #FFFFFF;\n",
              "    }\n",
              "  </style>\n",
              "\n",
              "      <script>\n",
              "        const buttonEl =\n",
              "          document.querySelector('#df-71f8ab7c-3ff9-462d-8605-6dd2f30613e3 button.colab-df-convert');\n",
              "        buttonEl.style.display =\n",
              "          google.colab.kernel.accessAllowed ? 'block' : 'none';\n",
              "\n",
              "        async function convertToInteractive(key) {\n",
              "          const element = document.querySelector('#df-71f8ab7c-3ff9-462d-8605-6dd2f30613e3');\n",
              "          const dataTable =\n",
              "            await google.colab.kernel.invokeFunction('convertToInteractive',\n",
              "                                                     [key], {});\n",
              "          if (!dataTable) return;\n",
              "\n",
              "          const docLinkHtml = 'Like what you see? Visit the ' +\n",
              "            '<a target=\"_blank\" href=https://colab.research.google.com/notebooks/data_table.ipynb>data table notebook</a>'\n",
              "            + ' to learn more about interactive tables.';\n",
              "          element.innerHTML = '';\n",
              "          dataTable['output_type'] = 'display_data';\n",
              "          await google.colab.output.renderOutput(dataTable, element);\n",
              "          const docLink = document.createElement('div');\n",
              "          docLink.innerHTML = docLinkHtml;\n",
              "          element.appendChild(docLink);\n",
              "        }\n",
              "      </script>\n",
              "    </div>\n",
              "  </div>\n",
              "  "
            ]
          },
          "metadata": {},
          "execution_count": 25
        }
      ]
    },
    {
      "cell_type": "markdown",
      "source": [
        "## Create Nueral Network"
      ],
      "metadata": {
        "id": "zWrk6AjRNaSe"
      }
    },
    {
      "cell_type": "code",
      "source": [
        "from tensorflow import keras\n",
        "from keras.models import Sequential\n",
        "from keras.layers import Dense\n",
        "\n",
        "model = Sequential(\n",
        "    [\n",
        "        Dense(10, input_dim=X_train.shape[-1], activation=\"relu\", name=\"input\"),\n",
        "        Dense(10, activation=\"relu\", name=\"layer1\"),\n",
        "        Dense(1, activation=\"sigmoid\", name=\"output\")\n",
        "    ],\n",
        "    name=\"sequential_model\"\n",
        ")\n",
        "model.summary()"
      ],
      "metadata": {
        "id": "XJhlNykVNSAm",
        "colab": {
          "base_uri": "https://localhost:8080/"
        },
        "outputId": "8b70d0d6-3c4e-4064-edd2-a92ad9764057"
      },
      "execution_count": 26,
      "outputs": [
        {
          "output_type": "stream",
          "name": "stdout",
          "text": [
            "Model: \"sequential_model\"\n",
            "_________________________________________________________________\n",
            " Layer (type)                Output Shape              Param #   \n",
            "=================================================================\n",
            " input (Dense)               (None, 10)                130       \n",
            "                                                                 \n",
            " layer1 (Dense)              (None, 10)                110       \n",
            "                                                                 \n",
            " output (Dense)              (None, 1)                 11        \n",
            "                                                                 \n",
            "=================================================================\n",
            "Total params: 251\n",
            "Trainable params: 251\n",
            "Non-trainable params: 0\n",
            "_________________________________________________________________\n"
          ]
        }
      ]
    },
    {
      "cell_type": "markdown",
      "source": [
        "### Plot Neural Network"
      ],
      "metadata": {
        "id": "jeN-apmzff2g"
      }
    },
    {
      "cell_type": "code",
      "source": [
        "from keras import utils\n",
        "utils.plot_model(model, show_shapes=True, show_layer_names=True)"
      ],
      "metadata": {
        "colab": {
          "base_uri": "https://localhost:8080/",
          "height": 422
        },
        "id": "mJ37W4WtYA1E",
        "outputId": "59d262d0-2cb2-4b4f-b402-c1a69e15d3d9"
      },
      "execution_count": 27,
      "outputs": [
        {
          "output_type": "execute_result",
          "data": {
            "image/png": "[encoded data removed]",
            "text/plain": [
              "<IPython.core.display.Image object>"
            ]
          },
          "metadata": {},
          "execution_count": 27
        }
      ]
    },
    {
      "cell_type": "markdown",
      "source": [
        "### Compile Model & Fit Model"
      ],
      "metadata": {
        "id": "jPEACPE1fl4j"
      }
    },
    {
      "cell_type": "code",
      "source": [
        "model.compile(\n",
        "        loss=\"binary_crossentropy\", \n",
        "        optimizer=\"adam\",\n",
        "        metrics=[\"accuracy\"]\n",
        "    )\n",
        "history = model.fit(X_train, y_train, batch_size=32, epochs=200, validation_data=(X_test, y_test))"
      ],
      "metadata": {
        "colab": {
          "base_uri": "https://localhost:8080/"
        },
        "id": "S4wtb4ENZQ3j",
        "outputId": "51ea3703-5149-4818-a8be-de06daa35381"
      },
      "execution_count": 28,
      "outputs": [
        {
          "output_type": "stream",
          "name": "stdout",
          "text": [
            "Epoch 1/200\n",
            "250/250 [==============================] - 2s 3ms/step - loss: 0.6260 - accuracy: 0.6574 - val_loss: 0.5007 - val_accuracy: 0.8060\n",
            "Epoch 2/200\n",
            "250/250 [==============================] - 0s 2ms/step - loss: 0.4651 - accuracy: 0.8077 - val_loss: 0.4408 - val_accuracy: 0.8120\n",
            "Epoch 3/200\n",
            "250/250 [==============================] - 0s 2ms/step - loss: 0.4330 - accuracy: 0.8167 - val_loss: 0.4179 - val_accuracy: 0.8225\n",
            "Epoch 4/200\n",
            "250/250 [==============================] - 0s 2ms/step - loss: 0.4186 - accuracy: 0.8242 - val_loss: 0.4048 - val_accuracy: 0.8320\n",
            "Epoch 5/200\n",
            "250/250 [==============================] - 0s 2ms/step - loss: 0.4050 - accuracy: 0.8294 - val_loss: 0.3891 - val_accuracy: 0.8445\n",
            "Epoch 6/200\n",
            "250/250 [==============================] - 0s 2ms/step - loss: 0.3889 - accuracy: 0.8378 - val_loss: 0.3732 - val_accuracy: 0.8555\n",
            "Epoch 7/200\n",
            "250/250 [==============================] - 0s 2ms/step - loss: 0.3741 - accuracy: 0.8470 - val_loss: 0.3613 - val_accuracy: 0.8605\n",
            "Epoch 8/200\n",
            "250/250 [==============================] - 0s 2ms/step - loss: 0.3637 - accuracy: 0.8526 - val_loss: 0.3537 - val_accuracy: 0.8615\n",
            "Epoch 9/200\n",
            "250/250 [==============================] - 1s 3ms/step - loss: 0.3574 - accuracy: 0.8533 - val_loss: 0.3486 - val_accuracy: 0.8575\n",
            "Epoch 10/200\n",
            "250/250 [==============================] - 1s 2ms/step - loss: 0.3526 - accuracy: 0.8551 - val_loss: 0.3450 - val_accuracy: 0.8585\n",
            "Epoch 11/200\n",
            "250/250 [==============================] - 1s 3ms/step - loss: 0.3496 - accuracy: 0.8555 - val_loss: 0.3423 - val_accuracy: 0.8575\n",
            "Epoch 12/200\n",
            "250/250 [==============================] - 0s 2ms/step - loss: 0.3470 - accuracy: 0.8570 - val_loss: 0.3393 - val_accuracy: 0.8595\n",
            "Epoch 13/200\n",
            "250/250 [==============================] - 1s 2ms/step - loss: 0.3443 - accuracy: 0.8587 - val_loss: 0.3397 - val_accuracy: 0.8555\n",
            "Epoch 14/200\n",
            "250/250 [==============================] - 0s 2ms/step - loss: 0.3432 - accuracy: 0.8601 - val_loss: 0.3387 - val_accuracy: 0.8565\n",
            "Epoch 15/200\n",
            "250/250 [==============================] - 0s 2ms/step - loss: 0.3414 - accuracy: 0.8601 - val_loss: 0.3357 - val_accuracy: 0.8600\n",
            "Epoch 16/200\n",
            "250/250 [==============================] - 1s 2ms/step - loss: 0.3399 - accuracy: 0.8606 - val_loss: 0.3336 - val_accuracy: 0.8625\n",
            "Epoch 17/200\n",
            "250/250 [==============================] - 1s 2ms/step - loss: 0.3391 - accuracy: 0.8609 - val_loss: 0.3328 - val_accuracy: 0.8615\n",
            "Epoch 18/200\n",
            "250/250 [==============================] - 1s 2ms/step - loss: 0.3380 - accuracy: 0.8612 - val_loss: 0.3348 - val_accuracy: 0.8585\n",
            "Epoch 19/200\n",
            "250/250 [==============================] - 1s 2ms/step - loss: 0.3370 - accuracy: 0.8609 - val_loss: 0.3326 - val_accuracy: 0.8630\n",
            "Epoch 20/200\n",
            "250/250 [==============================] - 0s 2ms/step - loss: 0.3362 - accuracy: 0.8635 - val_loss: 0.3338 - val_accuracy: 0.8605\n",
            "Epoch 21/200\n",
            "250/250 [==============================] - 0s 2ms/step - loss: 0.3357 - accuracy: 0.8629 - val_loss: 0.3323 - val_accuracy: 0.8625\n",
            "Epoch 22/200\n",
            "250/250 [==============================] - 0s 2ms/step - loss: 0.3347 - accuracy: 0.8641 - val_loss: 0.3325 - val_accuracy: 0.8610\n",
            "Epoch 23/200\n",
            "250/250 [==============================] - 0s 2ms/step - loss: 0.3340 - accuracy: 0.8634 - val_loss: 0.3312 - val_accuracy: 0.8615\n",
            "Epoch 24/200\n",
            "250/250 [==============================] - 0s 2ms/step - loss: 0.3335 - accuracy: 0.8644 - val_loss: 0.3321 - val_accuracy: 0.8610\n",
            "Epoch 25/200\n",
            "250/250 [==============================] - 0s 2ms/step - loss: 0.3332 - accuracy: 0.8635 - val_loss: 0.3318 - val_accuracy: 0.8620\n",
            "Epoch 26/200\n",
            "250/250 [==============================] - 0s 2ms/step - loss: 0.3328 - accuracy: 0.8643 - val_loss: 0.3315 - val_accuracy: 0.8620\n",
            "Epoch 27/200\n",
            "250/250 [==============================] - 0s 2ms/step - loss: 0.3324 - accuracy: 0.8631 - val_loss: 0.3328 - val_accuracy: 0.8585\n",
            "Epoch 28/200\n",
            "250/250 [==============================] - 0s 2ms/step - loss: 0.3315 - accuracy: 0.8636 - val_loss: 0.3305 - val_accuracy: 0.8655\n",
            "Epoch 29/200\n",
            "250/250 [==============================] - 0s 2ms/step - loss: 0.3314 - accuracy: 0.8651 - val_loss: 0.3309 - val_accuracy: 0.8645\n",
            "Epoch 30/200\n",
            "250/250 [==============================] - 0s 2ms/step - loss: 0.3317 - accuracy: 0.8618 - val_loss: 0.3313 - val_accuracy: 0.8645\n",
            "Epoch 31/200\n",
            "250/250 [==============================] - 0s 2ms/step - loss: 0.3310 - accuracy: 0.8651 - val_loss: 0.3320 - val_accuracy: 0.8610\n",
            "Epoch 32/200\n",
            "250/250 [==============================] - 0s 2ms/step - loss: 0.3309 - accuracy: 0.8633 - val_loss: 0.3353 - val_accuracy: 0.8575\n",
            "Epoch 33/200\n",
            "250/250 [==============================] - 0s 2ms/step - loss: 0.3308 - accuracy: 0.8648 - val_loss: 0.3311 - val_accuracy: 0.8635\n",
            "Epoch 34/200\n",
            "250/250 [==============================] - 0s 2ms/step - loss: 0.3303 - accuracy: 0.8648 - val_loss: 0.3353 - val_accuracy: 0.8585\n",
            "Epoch 35/200\n",
            "250/250 [==============================] - 1s 2ms/step - loss: 0.3298 - accuracy: 0.8640 - val_loss: 0.3326 - val_accuracy: 0.8635\n",
            "Epoch 36/200\n",
            "250/250 [==============================] - 0s 2ms/step - loss: 0.3295 - accuracy: 0.8631 - val_loss: 0.3327 - val_accuracy: 0.8635\n",
            "Epoch 37/200\n",
            "250/250 [==============================] - 0s 2ms/step - loss: 0.3294 - accuracy: 0.8645 - val_loss: 0.3337 - val_accuracy: 0.8625\n",
            "Epoch 38/200\n",
            "250/250 [==============================] - 1s 2ms/step - loss: 0.3292 - accuracy: 0.8650 - val_loss: 0.3313 - val_accuracy: 0.8635\n",
            "Epoch 39/200\n",
            "250/250 [==============================] - 0s 2ms/step - loss: 0.3291 - accuracy: 0.8627 - val_loss: 0.3328 - val_accuracy: 0.8630\n",
            "Epoch 40/200\n",
            "250/250 [==============================] - 0s 2ms/step - loss: 0.3288 - accuracy: 0.8636 - val_loss: 0.3338 - val_accuracy: 0.8650\n",
            "Epoch 41/200\n",
            "250/250 [==============================] - 0s 2ms/step - loss: 0.3287 - accuracy: 0.8645 - val_loss: 0.3340 - val_accuracy: 0.8625\n",
            "Epoch 42/200\n",
            "250/250 [==============================] - 1s 2ms/step - loss: 0.3280 - accuracy: 0.8646 - val_loss: 0.3331 - val_accuracy: 0.8615\n",
            "Epoch 43/200\n",
            "250/250 [==============================] - 1s 3ms/step - loss: 0.3278 - accuracy: 0.8633 - val_loss: 0.3358 - val_accuracy: 0.8625\n",
            "Epoch 44/200\n",
            "250/250 [==============================] - 1s 2ms/step - loss: 0.3276 - accuracy: 0.8649 - val_loss: 0.3322 - val_accuracy: 0.8635\n",
            "Epoch 45/200\n",
            "250/250 [==============================] - 1s 2ms/step - loss: 0.3277 - accuracy: 0.8650 - val_loss: 0.3352 - val_accuracy: 0.8620\n",
            "Epoch 46/200\n",
            "250/250 [==============================] - 0s 2ms/step - loss: 0.3272 - accuracy: 0.8636 - val_loss: 0.3329 - val_accuracy: 0.8640\n",
            "Epoch 47/200\n",
            "250/250 [==============================] - 0s 2ms/step - loss: 0.3271 - accuracy: 0.8651 - val_loss: 0.3332 - val_accuracy: 0.8645\n",
            "Epoch 48/200\n",
            "250/250 [==============================] - 1s 2ms/step - loss: 0.3271 - accuracy: 0.8649 - val_loss: 0.3343 - val_accuracy: 0.8665\n",
            "Epoch 49/200\n",
            "250/250 [==============================] - 0s 2ms/step - loss: 0.3265 - accuracy: 0.8646 - val_loss: 0.3366 - val_accuracy: 0.8600\n",
            "Epoch 50/200\n",
            "250/250 [==============================] - 0s 2ms/step - loss: 0.3270 - accuracy: 0.8643 - val_loss: 0.3334 - val_accuracy: 0.8645\n",
            "Epoch 51/200\n",
            "250/250 [==============================] - 0s 2ms/step - loss: 0.3267 - accuracy: 0.8635 - val_loss: 0.3329 - val_accuracy: 0.8645\n",
            "Epoch 52/200\n",
            "250/250 [==============================] - 0s 2ms/step - loss: 0.3262 - accuracy: 0.8652 - val_loss: 0.3339 - val_accuracy: 0.8660\n",
            "Epoch 53/200\n",
            "250/250 [==============================] - 0s 2ms/step - loss: 0.3264 - accuracy: 0.8644 - val_loss: 0.3335 - val_accuracy: 0.8640\n",
            "Epoch 54/200\n",
            "250/250 [==============================] - 0s 2ms/step - loss: 0.3262 - accuracy: 0.8649 - val_loss: 0.3340 - val_accuracy: 0.8625\n",
            "Epoch 55/200\n",
            "250/250 [==============================] - 0s 2ms/step - loss: 0.3257 - accuracy: 0.8650 - val_loss: 0.3330 - val_accuracy: 0.8655\n",
            "Epoch 56/200\n",
            "250/250 [==============================] - 0s 2ms/step - loss: 0.3256 - accuracy: 0.8645 - val_loss: 0.3358 - val_accuracy: 0.8650\n",
            "Epoch 57/200\n",
            "250/250 [==============================] - 0s 2ms/step - loss: 0.3255 - accuracy: 0.8656 - val_loss: 0.3366 - val_accuracy: 0.8615\n",
            "Epoch 58/200\n",
            "250/250 [==============================] - 1s 2ms/step - loss: 0.3255 - accuracy: 0.8636 - val_loss: 0.3349 - val_accuracy: 0.8640\n",
            "Epoch 59/200\n",
            "250/250 [==============================] - 1s 2ms/step - loss: 0.3254 - accuracy: 0.8652 - val_loss: 0.3338 - val_accuracy: 0.8650\n",
            "Epoch 60/200\n",
            "250/250 [==============================] - 1s 3ms/step - loss: 0.3250 - accuracy: 0.8652 - val_loss: 0.3327 - val_accuracy: 0.8620\n",
            "Epoch 61/200\n",
            "250/250 [==============================] - 1s 2ms/step - loss: 0.3248 - accuracy: 0.8664 - val_loss: 0.3321 - val_accuracy: 0.8660\n",
            "Epoch 62/200\n",
            "250/250 [==============================] - 1s 2ms/step - loss: 0.3252 - accuracy: 0.8648 - val_loss: 0.3354 - val_accuracy: 0.8640\n",
            "Epoch 63/200\n",
            "250/250 [==============================] - 0s 2ms/step - loss: 0.3244 - accuracy: 0.8656 - val_loss: 0.3398 - val_accuracy: 0.8605\n",
            "Epoch 64/200\n",
            "250/250 [==============================] - 0s 2ms/step - loss: 0.3246 - accuracy: 0.8655 - val_loss: 0.3373 - val_accuracy: 0.8625\n",
            "Epoch 65/200\n",
            "250/250 [==============================] - 0s 2ms/step - loss: 0.3248 - accuracy: 0.8654 - val_loss: 0.3342 - val_accuracy: 0.8650\n",
            "Epoch 66/200\n",
            "250/250 [==============================] - 1s 2ms/step - loss: 0.3244 - accuracy: 0.8661 - val_loss: 0.3326 - val_accuracy: 0.8650\n",
            "Epoch 67/200\n",
            "250/250 [==============================] - 1s 2ms/step - loss: 0.3246 - accuracy: 0.8649 - val_loss: 0.3331 - val_accuracy: 0.8610\n",
            "Epoch 68/200\n",
            "250/250 [==============================] - 1s 3ms/step - loss: 0.3246 - accuracy: 0.8646 - val_loss: 0.3327 - val_accuracy: 0.8625\n",
            "Epoch 69/200\n",
            "250/250 [==============================] - 0s 2ms/step - loss: 0.3242 - accuracy: 0.8650 - val_loss: 0.3333 - val_accuracy: 0.8625\n",
            "Epoch 70/200\n",
            "250/250 [==============================] - 1s 2ms/step - loss: 0.3244 - accuracy: 0.8637 - val_loss: 0.3335 - val_accuracy: 0.8625\n",
            "Epoch 71/200\n",
            "250/250 [==============================] - 0s 2ms/step - loss: 0.3239 - accuracy: 0.8662 - val_loss: 0.3360 - val_accuracy: 0.8625\n",
            "Epoch 72/200\n",
            "250/250 [==============================] - 0s 2ms/step - loss: 0.3240 - accuracy: 0.8655 - val_loss: 0.3333 - val_accuracy: 0.8625\n",
            "Epoch 73/200\n",
            "250/250 [==============================] - 0s 2ms/step - loss: 0.3235 - accuracy: 0.8652 - val_loss: 0.3330 - val_accuracy: 0.8660\n",
            "Epoch 74/200\n",
            "250/250 [==============================] - 0s 2ms/step - loss: 0.3242 - accuracy: 0.8659 - val_loss: 0.3329 - val_accuracy: 0.8605\n",
            "Epoch 75/200\n",
            "250/250 [==============================] - 0s 2ms/step - loss: 0.3236 - accuracy: 0.8655 - val_loss: 0.3319 - val_accuracy: 0.8635\n",
            "Epoch 76/200\n",
            "250/250 [==============================] - 0s 2ms/step - loss: 0.3240 - accuracy: 0.8656 - val_loss: 0.3334 - val_accuracy: 0.8640\n",
            "Epoch 77/200\n",
            "250/250 [==============================] - 0s 2ms/step - loss: 0.3234 - accuracy: 0.8655 - val_loss: 0.3344 - val_accuracy: 0.8640\n",
            "Epoch 78/200\n",
            "250/250 [==============================] - 0s 2ms/step - loss: 0.3235 - accuracy: 0.8661 - val_loss: 0.3333 - val_accuracy: 0.8620\n",
            "Epoch 79/200\n",
            "250/250 [==============================] - 0s 2ms/step - loss: 0.3234 - accuracy: 0.8655 - val_loss: 0.3337 - val_accuracy: 0.8660\n",
            "Epoch 80/200\n",
            "250/250 [==============================] - 0s 2ms/step - loss: 0.3235 - accuracy: 0.8674 - val_loss: 0.3328 - val_accuracy: 0.8635\n",
            "Epoch 81/200\n",
            "250/250 [==============================] - 0s 2ms/step - loss: 0.3227 - accuracy: 0.8660 - val_loss: 0.3344 - val_accuracy: 0.8625\n",
            "Epoch 82/200\n",
            "250/250 [==============================] - 0s 2ms/step - loss: 0.3236 - accuracy: 0.8669 - val_loss: 0.3333 - val_accuracy: 0.8655\n",
            "Epoch 83/200\n",
            "250/250 [==============================] - 0s 2ms/step - loss: 0.3234 - accuracy: 0.8654 - val_loss: 0.3327 - val_accuracy: 0.8650\n",
            "Epoch 84/200\n",
            "250/250 [==============================] - 0s 2ms/step - loss: 0.3232 - accuracy: 0.8650 - val_loss: 0.3332 - val_accuracy: 0.8635\n",
            "Epoch 85/200\n",
            "250/250 [==============================] - 0s 2ms/step - loss: 0.3228 - accuracy: 0.8655 - val_loss: 0.3338 - val_accuracy: 0.8640\n",
            "Epoch 86/200\n",
            "250/250 [==============================] - 0s 2ms/step - loss: 0.3228 - accuracy: 0.8641 - val_loss: 0.3367 - val_accuracy: 0.8625\n",
            "Epoch 87/200\n",
            "250/250 [==============================] - 0s 2ms/step - loss: 0.3228 - accuracy: 0.8661 - val_loss: 0.3388 - val_accuracy: 0.8610\n",
            "Epoch 88/200\n",
            "250/250 [==============================] - 0s 2ms/step - loss: 0.3230 - accuracy: 0.8662 - val_loss: 0.3323 - val_accuracy: 0.8640\n",
            "Epoch 89/200\n",
            "250/250 [==============================] - 0s 2ms/step - loss: 0.3230 - accuracy: 0.8664 - val_loss: 0.3334 - val_accuracy: 0.8650\n",
            "Epoch 90/200\n",
            "250/250 [==============================] - 1s 2ms/step - loss: 0.3226 - accuracy: 0.8669 - val_loss: 0.3344 - val_accuracy: 0.8620\n",
            "Epoch 91/200\n",
            "250/250 [==============================] - 1s 2ms/step - loss: 0.3228 - accuracy: 0.8660 - val_loss: 0.3342 - val_accuracy: 0.8615\n",
            "Epoch 92/200\n",
            "250/250 [==============================] - 1s 3ms/step - loss: 0.3226 - accuracy: 0.8658 - val_loss: 0.3328 - val_accuracy: 0.8625\n",
            "Epoch 93/200\n",
            "250/250 [==============================] - 1s 3ms/step - loss: 0.3230 - accuracy: 0.8669 - val_loss: 0.3345 - val_accuracy: 0.8635\n",
            "Epoch 94/200\n",
            "250/250 [==============================] - 0s 2ms/step - loss: 0.3220 - accuracy: 0.8661 - val_loss: 0.3335 - val_accuracy: 0.8635\n",
            "Epoch 95/200\n",
            "250/250 [==============================] - 0s 2ms/step - loss: 0.3225 - accuracy: 0.8670 - val_loss: 0.3344 - val_accuracy: 0.8610\n",
            "Epoch 96/200\n",
            "250/250 [==============================] - 0s 2ms/step - loss: 0.3224 - accuracy: 0.8650 - val_loss: 0.3335 - val_accuracy: 0.8630\n",
            "Epoch 97/200\n",
            "250/250 [==============================] - 0s 2ms/step - loss: 0.3221 - accuracy: 0.8673 - val_loss: 0.3364 - val_accuracy: 0.8625\n",
            "Epoch 98/200\n",
            "250/250 [==============================] - 0s 2ms/step - loss: 0.3224 - accuracy: 0.8656 - val_loss: 0.3343 - val_accuracy: 0.8615\n",
            "Epoch 99/200\n",
            "250/250 [==============================] - 0s 2ms/step - loss: 0.3222 - accuracy: 0.8656 - val_loss: 0.3332 - val_accuracy: 0.8620\n",
            "Epoch 100/200\n",
            "250/250 [==============================] - 0s 2ms/step - loss: 0.3222 - accuracy: 0.8664 - val_loss: 0.3351 - val_accuracy: 0.8600\n",
            "Epoch 101/200\n",
            "250/250 [==============================] - 0s 2ms/step - loss: 0.3221 - accuracy: 0.8677 - val_loss: 0.3339 - val_accuracy: 0.8660\n",
            "Epoch 102/200\n",
            "250/250 [==============================] - 0s 2ms/step - loss: 0.3219 - accuracy: 0.8666 - val_loss: 0.3359 - val_accuracy: 0.8625\n",
            "Epoch 103/200\n",
            "250/250 [==============================] - 0s 2ms/step - loss: 0.3223 - accuracy: 0.8664 - val_loss: 0.3362 - val_accuracy: 0.8605\n",
            "Epoch 104/200\n",
            "250/250 [==============================] - 0s 2ms/step - loss: 0.3217 - accuracy: 0.8661 - val_loss: 0.3348 - val_accuracy: 0.8660\n",
            "Epoch 105/200\n",
            "250/250 [==============================] - 0s 2ms/step - loss: 0.3218 - accuracy: 0.8670 - val_loss: 0.3348 - val_accuracy: 0.8605\n",
            "Epoch 106/200\n",
            "250/250 [==============================] - 0s 2ms/step - loss: 0.3215 - accuracy: 0.8671 - val_loss: 0.3334 - val_accuracy: 0.8630\n",
            "Epoch 107/200\n",
            "250/250 [==============================] - 0s 2ms/step - loss: 0.3212 - accuracy: 0.8679 - val_loss: 0.3346 - val_accuracy: 0.8600\n",
            "Epoch 108/200\n",
            "250/250 [==============================] - 0s 2ms/step - loss: 0.3213 - accuracy: 0.8670 - val_loss: 0.3370 - val_accuracy: 0.8615\n",
            "Epoch 109/200\n",
            "250/250 [==============================] - 0s 2ms/step - loss: 0.3215 - accuracy: 0.8683 - val_loss: 0.3344 - val_accuracy: 0.8610\n",
            "Epoch 110/200\n",
            "250/250 [==============================] - 0s 2ms/step - loss: 0.3210 - accuracy: 0.8662 - val_loss: 0.3359 - val_accuracy: 0.8585\n",
            "Epoch 111/200\n",
            "250/250 [==============================] - 0s 2ms/step - loss: 0.3213 - accuracy: 0.8664 - val_loss: 0.3347 - val_accuracy: 0.8610\n",
            "Epoch 112/200\n",
            "250/250 [==============================] - 0s 2ms/step - loss: 0.3211 - accuracy: 0.8673 - val_loss: 0.3340 - val_accuracy: 0.8610\n",
            "Epoch 113/200\n",
            "250/250 [==============================] - 0s 2ms/step - loss: 0.3212 - accuracy: 0.8677 - val_loss: 0.3376 - val_accuracy: 0.8605\n",
            "Epoch 114/200\n",
            "250/250 [==============================] - 0s 2ms/step - loss: 0.3212 - accuracy: 0.8652 - val_loss: 0.3331 - val_accuracy: 0.8620\n",
            "Epoch 115/200\n",
            "250/250 [==============================] - 0s 2ms/step - loss: 0.3210 - accuracy: 0.8661 - val_loss: 0.3349 - val_accuracy: 0.8635\n",
            "Epoch 116/200\n",
            "250/250 [==============================] - 1s 2ms/step - loss: 0.3212 - accuracy: 0.8671 - val_loss: 0.3365 - val_accuracy: 0.8605\n",
            "Epoch 117/200\n",
            "250/250 [==============================] - 1s 2ms/step - loss: 0.3212 - accuracy: 0.8664 - val_loss: 0.3340 - val_accuracy: 0.8595\n",
            "Epoch 118/200\n",
            "250/250 [==============================] - 1s 3ms/step - loss: 0.3208 - accuracy: 0.8670 - val_loss: 0.3340 - val_accuracy: 0.8635\n",
            "Epoch 119/200\n",
            "250/250 [==============================] - 1s 2ms/step - loss: 0.3209 - accuracy: 0.8680 - val_loss: 0.3338 - val_accuracy: 0.8610\n",
            "Epoch 120/200\n",
            "250/250 [==============================] - 0s 2ms/step - loss: 0.3208 - accuracy: 0.8671 - val_loss: 0.3360 - val_accuracy: 0.8595\n",
            "Epoch 121/200\n",
            "250/250 [==============================] - 0s 2ms/step - loss: 0.3209 - accuracy: 0.8670 - val_loss: 0.3353 - val_accuracy: 0.8590\n",
            "Epoch 122/200\n",
            "250/250 [==============================] - 0s 2ms/step - loss: 0.3210 - accuracy: 0.8679 - val_loss: 0.3356 - val_accuracy: 0.8600\n",
            "Epoch 123/200\n",
            "250/250 [==============================] - 0s 2ms/step - loss: 0.3204 - accuracy: 0.8675 - val_loss: 0.3365 - val_accuracy: 0.8580\n",
            "Epoch 124/200\n",
            "250/250 [==============================] - 1s 2ms/step - loss: 0.3207 - accuracy: 0.8671 - val_loss: 0.3342 - val_accuracy: 0.8605\n",
            "Epoch 125/200\n",
            "250/250 [==============================] - 0s 2ms/step - loss: 0.3208 - accuracy: 0.8677 - val_loss: 0.3345 - val_accuracy: 0.8585\n",
            "Epoch 126/200\n",
            "250/250 [==============================] - 1s 2ms/step - loss: 0.3201 - accuracy: 0.8681 - val_loss: 0.3343 - val_accuracy: 0.8595\n",
            "Epoch 127/200\n",
            "250/250 [==============================] - 0s 2ms/step - loss: 0.3204 - accuracy: 0.8666 - val_loss: 0.3352 - val_accuracy: 0.8580\n",
            "Epoch 128/200\n",
            "250/250 [==============================] - 0s 2ms/step - loss: 0.3205 - accuracy: 0.8664 - val_loss: 0.3341 - val_accuracy: 0.8585\n",
            "Epoch 129/200\n",
            "250/250 [==============================] - 0s 2ms/step - loss: 0.3203 - accuracy: 0.8676 - val_loss: 0.3359 - val_accuracy: 0.8570\n",
            "Epoch 130/200\n",
            "250/250 [==============================] - 0s 2ms/step - loss: 0.3202 - accuracy: 0.8675 - val_loss: 0.3342 - val_accuracy: 0.8640\n",
            "Epoch 131/200\n",
            "250/250 [==============================] - 0s 2ms/step - loss: 0.3203 - accuracy: 0.8668 - val_loss: 0.3369 - val_accuracy: 0.8590\n",
            "Epoch 132/200\n",
            "250/250 [==============================] - 0s 2ms/step - loss: 0.3199 - accuracy: 0.8669 - val_loss: 0.3380 - val_accuracy: 0.8565\n",
            "Epoch 133/200\n",
            "250/250 [==============================] - 1s 2ms/step - loss: 0.3198 - accuracy: 0.8684 - val_loss: 0.3339 - val_accuracy: 0.8630\n",
            "Epoch 134/200\n",
            "250/250 [==============================] - 0s 2ms/step - loss: 0.3200 - accuracy: 0.8674 - val_loss: 0.3335 - val_accuracy: 0.8620\n",
            "Epoch 135/200\n",
            "250/250 [==============================] - 1s 2ms/step - loss: 0.3198 - accuracy: 0.8664 - val_loss: 0.3356 - val_accuracy: 0.8595\n",
            "Epoch 136/200\n",
            "250/250 [==============================] - 0s 2ms/step - loss: 0.3198 - accuracy: 0.8669 - val_loss: 0.3347 - val_accuracy: 0.8600\n",
            "Epoch 137/200\n",
            "250/250 [==============================] - 0s 2ms/step - loss: 0.3197 - accuracy: 0.8671 - val_loss: 0.3341 - val_accuracy: 0.8615\n",
            "Epoch 138/200\n",
            "250/250 [==============================] - 0s 2ms/step - loss: 0.3200 - accuracy: 0.8679 - val_loss: 0.3342 - val_accuracy: 0.8595\n",
            "Epoch 139/200\n",
            "250/250 [==============================] - 0s 2ms/step - loss: 0.3198 - accuracy: 0.8684 - val_loss: 0.3363 - val_accuracy: 0.8585\n",
            "Epoch 140/200\n",
            "250/250 [==============================] - 1s 2ms/step - loss: 0.3195 - accuracy: 0.8673 - val_loss: 0.3397 - val_accuracy: 0.8545\n",
            "Epoch 141/200\n",
            "250/250 [==============================] - 1s 3ms/step - loss: 0.3199 - accuracy: 0.8673 - val_loss: 0.3341 - val_accuracy: 0.8590\n",
            "Epoch 142/200\n",
            "250/250 [==============================] - 1s 3ms/step - loss: 0.3194 - accuracy: 0.8662 - val_loss: 0.3339 - val_accuracy: 0.8590\n",
            "Epoch 143/200\n",
            "250/250 [==============================] - 1s 3ms/step - loss: 0.3199 - accuracy: 0.8664 - val_loss: 0.3353 - val_accuracy: 0.8585\n",
            "Epoch 144/200\n",
            "250/250 [==============================] - 0s 2ms/step - loss: 0.3201 - accuracy: 0.8670 - val_loss: 0.3361 - val_accuracy: 0.8595\n",
            "Epoch 145/200\n",
            "250/250 [==============================] - 0s 2ms/step - loss: 0.3193 - accuracy: 0.8671 - val_loss: 0.3352 - val_accuracy: 0.8580\n",
            "Epoch 146/200\n",
            "250/250 [==============================] - 0s 2ms/step - loss: 0.3193 - accuracy: 0.8665 - val_loss: 0.3363 - val_accuracy: 0.8595\n",
            "Epoch 147/200\n",
            "250/250 [==============================] - 1s 2ms/step - loss: 0.3194 - accuracy: 0.8674 - val_loss: 0.3385 - val_accuracy: 0.8570\n",
            "Epoch 148/200\n",
            "250/250 [==============================] - 1s 2ms/step - loss: 0.3190 - accuracy: 0.8687 - val_loss: 0.3357 - val_accuracy: 0.8580\n",
            "Epoch 149/200\n",
            "250/250 [==============================] - 1s 2ms/step - loss: 0.3188 - accuracy: 0.8691 - val_loss: 0.3368 - val_accuracy: 0.8565\n",
            "Epoch 150/200\n",
            "250/250 [==============================] - 0s 2ms/step - loss: 0.3196 - accuracy: 0.8671 - val_loss: 0.3365 - val_accuracy: 0.8600\n",
            "Epoch 151/200\n",
            "250/250 [==============================] - 0s 2ms/step - loss: 0.3195 - accuracy: 0.8679 - val_loss: 0.3382 - val_accuracy: 0.8600\n",
            "Epoch 152/200\n",
            "250/250 [==============================] - 0s 2ms/step - loss: 0.3192 - accuracy: 0.8683 - val_loss: 0.3331 - val_accuracy: 0.8615\n",
            "Epoch 153/200\n",
            "250/250 [==============================] - 0s 2ms/step - loss: 0.3189 - accuracy: 0.8692 - val_loss: 0.3350 - val_accuracy: 0.8605\n",
            "Epoch 154/200\n",
            "250/250 [==============================] - 0s 2ms/step - loss: 0.3189 - accuracy: 0.8681 - val_loss: 0.3352 - val_accuracy: 0.8610\n",
            "Epoch 155/200\n",
            "250/250 [==============================] - 0s 2ms/step - loss: 0.3195 - accuracy: 0.8687 - val_loss: 0.3350 - val_accuracy: 0.8610\n",
            "Epoch 156/200\n",
            "250/250 [==============================] - 0s 2ms/step - loss: 0.3189 - accuracy: 0.8686 - val_loss: 0.3342 - val_accuracy: 0.8620\n",
            "Epoch 157/200\n",
            "250/250 [==============================] - 1s 2ms/step - loss: 0.3192 - accuracy: 0.8669 - val_loss: 0.3365 - val_accuracy: 0.8605\n",
            "Epoch 158/200\n",
            "250/250 [==============================] - 1s 2ms/step - loss: 0.3188 - accuracy: 0.8686 - val_loss: 0.3343 - val_accuracy: 0.8625\n",
            "Epoch 159/200\n",
            "250/250 [==============================] - 0s 2ms/step - loss: 0.3187 - accuracy: 0.8687 - val_loss: 0.3364 - val_accuracy: 0.8585\n",
            "Epoch 160/200\n",
            "250/250 [==============================] - 0s 2ms/step - loss: 0.3193 - accuracy: 0.8665 - val_loss: 0.3364 - val_accuracy: 0.8595\n",
            "Epoch 161/200\n",
            "250/250 [==============================] - 0s 2ms/step - loss: 0.3187 - accuracy: 0.8679 - val_loss: 0.3366 - val_accuracy: 0.8575\n",
            "Epoch 162/200\n",
            "250/250 [==============================] - 0s 2ms/step - loss: 0.3184 - accuracy: 0.8687 - val_loss: 0.3446 - val_accuracy: 0.8540\n",
            "Epoch 163/200\n",
            "250/250 [==============================] - 0s 2ms/step - loss: 0.3192 - accuracy: 0.8668 - val_loss: 0.3363 - val_accuracy: 0.8575\n",
            "Epoch 164/200\n",
            "250/250 [==============================] - 0s 2ms/step - loss: 0.3183 - accuracy: 0.8676 - val_loss: 0.3353 - val_accuracy: 0.8600\n",
            "Epoch 165/200\n",
            "250/250 [==============================] - 1s 2ms/step - loss: 0.3189 - accuracy: 0.8677 - val_loss: 0.3344 - val_accuracy: 0.8600\n",
            "Epoch 166/200\n",
            "250/250 [==============================] - 1s 2ms/step - loss: 0.3187 - accuracy: 0.8675 - val_loss: 0.3347 - val_accuracy: 0.8625\n",
            "Epoch 167/200\n",
            "250/250 [==============================] - 1s 3ms/step - loss: 0.3183 - accuracy: 0.8683 - val_loss: 0.3360 - val_accuracy: 0.8595\n",
            "Epoch 168/200\n",
            "250/250 [==============================] - 1s 2ms/step - loss: 0.3188 - accuracy: 0.8680 - val_loss: 0.3355 - val_accuracy: 0.8605\n",
            "Epoch 169/200\n",
            "250/250 [==============================] - 0s 2ms/step - loss: 0.3181 - accuracy: 0.8684 - val_loss: 0.3352 - val_accuracy: 0.8615\n",
            "Epoch 170/200\n",
            "250/250 [==============================] - 1s 2ms/step - loss: 0.3184 - accuracy: 0.8674 - val_loss: 0.3359 - val_accuracy: 0.8600\n",
            "Epoch 171/200\n",
            "250/250 [==============================] - 0s 2ms/step - loss: 0.3181 - accuracy: 0.8683 - val_loss: 0.3357 - val_accuracy: 0.8620\n",
            "Epoch 172/200\n",
            "250/250 [==============================] - 0s 2ms/step - loss: 0.3187 - accuracy: 0.8680 - val_loss: 0.3361 - val_accuracy: 0.8585\n",
            "Epoch 173/200\n",
            "250/250 [==============================] - 0s 2ms/step - loss: 0.3182 - accuracy: 0.8673 - val_loss: 0.3403 - val_accuracy: 0.8585\n",
            "Epoch 174/200\n",
            "250/250 [==============================] - 0s 2ms/step - loss: 0.3181 - accuracy: 0.8686 - val_loss: 0.3363 - val_accuracy: 0.8610\n",
            "Epoch 175/200\n",
            "250/250 [==============================] - 0s 2ms/step - loss: 0.3180 - accuracy: 0.8666 - val_loss: 0.3370 - val_accuracy: 0.8575\n",
            "Epoch 176/200\n",
            "250/250 [==============================] - 0s 2ms/step - loss: 0.3185 - accuracy: 0.8680 - val_loss: 0.3366 - val_accuracy: 0.8575\n",
            "Epoch 177/200\n",
            "250/250 [==============================] - 0s 2ms/step - loss: 0.3180 - accuracy: 0.8683 - val_loss: 0.3367 - val_accuracy: 0.8620\n",
            "Epoch 178/200\n",
            "250/250 [==============================] - 0s 2ms/step - loss: 0.3185 - accuracy: 0.8686 - val_loss: 0.3356 - val_accuracy: 0.8605\n",
            "Epoch 179/200\n",
            "250/250 [==============================] - 1s 2ms/step - loss: 0.3178 - accuracy: 0.8695 - val_loss: 0.3373 - val_accuracy: 0.8585\n",
            "Epoch 180/200\n",
            "250/250 [==============================] - 0s 2ms/step - loss: 0.3183 - accuracy: 0.8694 - val_loss: 0.3374 - val_accuracy: 0.8585\n",
            "Epoch 181/200\n",
            "250/250 [==============================] - 0s 2ms/step - loss: 0.3178 - accuracy: 0.8686 - val_loss: 0.3371 - val_accuracy: 0.8605\n",
            "Epoch 182/200\n",
            "250/250 [==============================] - 0s 2ms/step - loss: 0.3181 - accuracy: 0.8677 - val_loss: 0.3402 - val_accuracy: 0.8570\n",
            "Epoch 183/200\n",
            "250/250 [==============================] - 0s 2ms/step - loss: 0.3177 - accuracy: 0.8687 - val_loss: 0.3380 - val_accuracy: 0.8570\n",
            "Epoch 184/200\n",
            "250/250 [==============================] - 0s 2ms/step - loss: 0.3180 - accuracy: 0.8670 - val_loss: 0.3357 - val_accuracy: 0.8600\n",
            "Epoch 185/200\n",
            "250/250 [==============================] - 0s 2ms/step - loss: 0.3177 - accuracy: 0.8692 - val_loss: 0.3364 - val_accuracy: 0.8590\n",
            "Epoch 186/200\n",
            "250/250 [==============================] - 1s 2ms/step - loss: 0.3177 - accuracy: 0.8686 - val_loss: 0.3391 - val_accuracy: 0.8575\n",
            "Epoch 187/200\n",
            "250/250 [==============================] - 0s 2ms/step - loss: 0.3178 - accuracy: 0.8700 - val_loss: 0.3366 - val_accuracy: 0.8625\n",
            "Epoch 188/200\n",
            "250/250 [==============================] - 0s 2ms/step - loss: 0.3179 - accuracy: 0.8698 - val_loss: 0.3377 - val_accuracy: 0.8590\n",
            "Epoch 189/200\n",
            "250/250 [==============================] - 0s 2ms/step - loss: 0.3171 - accuracy: 0.8683 - val_loss: 0.3441 - val_accuracy: 0.8540\n",
            "Epoch 190/200\n",
            "250/250 [==============================] - 1s 2ms/step - loss: 0.3175 - accuracy: 0.8689 - val_loss: 0.3385 - val_accuracy: 0.8580\n",
            "Epoch 191/200\n",
            "250/250 [==============================] - 1s 2ms/step - loss: 0.3174 - accuracy: 0.8695 - val_loss: 0.3396 - val_accuracy: 0.8585\n",
            "Epoch 192/200\n",
            "250/250 [==============================] - 1s 3ms/step - loss: 0.3169 - accuracy: 0.8704 - val_loss: 0.3369 - val_accuracy: 0.8590\n",
            "Epoch 193/200\n",
            "250/250 [==============================] - 1s 3ms/step - loss: 0.3174 - accuracy: 0.8694 - val_loss: 0.3380 - val_accuracy: 0.8585\n",
            "Epoch 194/200\n",
            "250/250 [==============================] - 0s 2ms/step - loss: 0.3175 - accuracy: 0.8691 - val_loss: 0.3390 - val_accuracy: 0.8560\n",
            "Epoch 195/200\n",
            "250/250 [==============================] - 0s 2ms/step - loss: 0.3172 - accuracy: 0.8702 - val_loss: 0.3359 - val_accuracy: 0.8605\n",
            "Epoch 196/200\n",
            "250/250 [==============================] - 0s 2ms/step - loss: 0.3171 - accuracy: 0.8677 - val_loss: 0.3367 - val_accuracy: 0.8590\n",
            "Epoch 197/200\n",
            "250/250 [==============================] - 0s 2ms/step - loss: 0.3173 - accuracy: 0.8687 - val_loss: 0.3370 - val_accuracy: 0.8595\n",
            "Epoch 198/200\n",
            "250/250 [==============================] - 0s 2ms/step - loss: 0.3173 - accuracy: 0.8690 - val_loss: 0.3373 - val_accuracy: 0.8595\n",
            "Epoch 199/200\n",
            "250/250 [==============================] - 0s 2ms/step - loss: 0.3171 - accuracy: 0.8695 - val_loss: 0.3404 - val_accuracy: 0.8585\n",
            "Epoch 200/200\n",
            "250/250 [==============================] - 0s 2ms/step - loss: 0.3173 - accuracy: 0.8691 - val_loss: 0.3435 - val_accuracy: 0.8555\n"
          ]
        }
      ]
    },
    {
      "cell_type": "code",
      "source": [
        "loss, accuracy = model.evaluate(X_test, y_test)\n",
        "print('Accuracy: %.2f' % (accuracy*100))"
      ],
      "metadata": {
        "colab": {
          "base_uri": "https://localhost:8080/"
        },
        "id": "MS2Ccyobdb83",
        "outputId": "3a4554d9-02e9-4279-c3d6-89361745cd24"
      },
      "execution_count": 29,
      "outputs": [
        {
          "output_type": "stream",
          "name": "stdout",
          "text": [
            "63/63 [==============================] - 0s 1ms/step - loss: 0.3435 - accuracy: 0.8555\n",
            "Accuracy: 85.55\n"
          ]
        }
      ]
    },
    {
      "cell_type": "markdown",
      "source": [
        "### Plot Loss & Val Loss Chart For Train & Test"
      ],
      "metadata": {
        "id": "OCeFIOKRfrZm"
      }
    },
    {
      "cell_type": "code",
      "source": [
        "import matplotlib.pyplot as plt\n",
        "f = plt.figure(figsize=(15,7.5))\n",
        "plt.subplot(1,2,1)\n",
        "plt.plot(history.history['accuracy'],\n",
        "         label='train accuracy',\n",
        "         c='orange', ls='-')\n",
        "plt.plot(history.history['val_accuracy'],\n",
        "         label='test accuracy',\n",
        "         c='dodgerblue', ls='-')\n",
        "plt.xlabel('Epoch')\n",
        "plt.ylabel('Accuracy')\n",
        "plt.legend(loc='lower right')\n",
        "plt.subplot(1,2,2)\n",
        "plt.plot(history.history['loss'],\n",
        "         label='train loss',\n",
        "         c='orange', ls='--')\n",
        "plt.plot(history.history['val_loss'],\n",
        "         label='test loss',\n",
        "         c='dodgerblue', ls='--')\n",
        "plt.xlabel('Epoch')\n",
        "plt.ylabel('Loss')\n",
        "plt.legend(loc='lower right')\n",
        "plt.show()"
      ],
      "metadata": {
        "colab": {
          "base_uri": "https://localhost:8080/",
          "height": 470
        },
        "id": "GTV99r_VeYrf",
        "outputId": "bcd2feda-060d-4354-ec7b-baeaed3e5ddd"
      },
      "execution_count": 30,
      "outputs": [
        {
          "output_type": "display_data",
          "data": {
            "text/plain": [
              "<Figure size 1080x540 with 2 Axes>"
            ],
            "image/png": "[encoded data removed]"
          },
          "metadata": {
            "needs_background": "light"
          }
        }
      ]
    },
    {
      "cell_type": "markdown",
      "source": [
        "### Predict Test"
      ],
      "metadata": {
        "id": "SIxe-tkKiO8J"
      }
    },
    {
      "cell_type": "code",
      "source": [
        "y_pred = model.predict(X_test)"
      ],
      "metadata": {
        "colab": {
          "base_uri": "https://localhost:8080/"
        },
        "id": "pTRmRqeGesYS",
        "outputId": "d3335471-fa3a-4917-cdcd-62c9ae4d6766"
      },
      "execution_count": 31,
      "outputs": [
        {
          "output_type": "stream",
          "name": "stdout",
          "text": [
            "63/63 [==============================] - 0s 963us/step\n"
          ]
        }
      ]
    },
    {
      "cell_type": "code",
      "source": [
        "y_pred = (y_pred > 0.5)"
      ],
      "metadata": {
        "id": "QVKvFBt2g-F5"
      },
      "execution_count": 32,
      "outputs": []
    },
    {
      "cell_type": "code",
      "source": [
        "dframe = pd.DataFrame({'Actual': y_test, 'Predicted': y_pred.reshape(y_test.shape[0],)})\n",
        "dframe.head(10)"
      ],
      "metadata": {
        "colab": {
          "base_uri": "https://localhost:8080/",
          "height": 363
        },
        "id": "Vxu1jSZygD1K",
        "outputId": "a7f366fb-97c9-4ff1-d875-af04ded90993"
      },
      "execution_count": 33,
      "outputs": [
        {
          "output_type": "execute_result",
          "data": {
            "text/plain": [
              "   Actual  Predicted\n",
              "0       0      False\n",
              "1       1      False\n",
              "2       0      False\n",
              "3       0      False\n",
              "4       0      False\n",
              "5       1       True\n",
              "6       0      False\n",
              "7       0      False\n",
              "8       1      False\n",
              "9       1       True"
            ],
            "text/html": [
              "\n",
              "  <div id=\"df-2d9768ca-9186-4192-91bc-049c71259de3\">\n",
              "    <div class=\"colab-df-container\">\n",
              "      <div>\n",
              "<style scoped>\n",
              "    .dataframe tbody tr th:only-of-type {\n",
              "        vertical-align: middle;\n",
              "    }\n",
              "\n",
              "    .dataframe tbody tr th {\n",
              "        vertical-align: top;\n",
              "    }\n",
              "\n",
              "    .dataframe thead th {\n",
              "        text-align: right;\n",
              "    }\n",
              "</style>\n",
              "<table border=\"1\" class=\"dataframe\">\n",
              "  <thead>\n",
              "    <tr style=\"text-align: right;\">\n",
              "      <th></th>\n",
              "      <th>Actual</th>\n",
              "      <th>Predicted</th>\n",
              "    </tr>\n",
              "  </thead>\n",
              "  <tbody>\n",
              "    <tr>\n",
              "      <th>0</th>\n",
              "      <td>0</td>\n",
              "      <td>False</td>\n",
              "    </tr>\n",
              "    <tr>\n",
              "      <th>1</th>\n",
              "      <td>1</td>\n",
              "      <td>False</td>\n",
              "    </tr>\n",
              "    <tr>\n",
              "      <th>2</th>\n",
              "      <td>0</td>\n",
              "      <td>False</td>\n",
              "    </tr>\n",
              "    <tr>\n",
              "      <th>3</th>\n",
              "      <td>0</td>\n",
              "      <td>False</td>\n",
              "    </tr>\n",
              "    <tr>\n",
              "      <th>4</th>\n",
              "      <td>0</td>\n",
              "      <td>False</td>\n",
              "    </tr>\n",
              "    <tr>\n",
              "      <th>5</th>\n",
              "      <td>1</td>\n",
              "      <td>True</td>\n",
              "    </tr>\n",
              "    <tr>\n",
              "      <th>6</th>\n",
              "      <td>0</td>\n",
              "      <td>False</td>\n",
              "    </tr>\n",
              "    <tr>\n",
              "      <th>7</th>\n",
              "      <td>0</td>\n",
              "      <td>False</td>\n",
              "    </tr>\n",
              "    <tr>\n",
              "      <th>8</th>\n",
              "      <td>1</td>\n",
              "      <td>False</td>\n",
              "    </tr>\n",
              "    <tr>\n",
              "      <th>9</th>\n",
              "      <td>1</td>\n",
              "      <td>True</td>\n",
              "    </tr>\n",
              "  </tbody>\n",
              "</table>\n",
              "</div>\n",
              "      <button class=\"colab-df-convert\" onclick=\"convertToInteractive('df-2d9768ca-9186-4192-91bc-049c71259de3')\"\n",
              "              title=\"Convert this dataframe to an interactive table.\"\n",
              "              style=\"display:none;\">\n",
              "        \n",
              "  <svg xmlns=\"http://www.w3.org/2000/svg\" height=\"24px\"viewBox=\"0 0 24 24\"\n",
              "       width=\"24px\">\n",
              "    <path d=\"M0 0h24v24H0V0z\" fill=\"none\"/>\n",
              "    <path d=\"M18.56 5.44l.94 2.06.94-2.06 2.06-.94-2.06-.94-.94-2.06-.94 2.06-2.06.94zm-11 1L8.5 8.5l.94-2.06 2.06-.94-2.06-.94L8.5 2.5l-.94 2.06-2.06.94zm10 10l.94 2.06.94-2.06 2.06-.94-2.06-.94-.94-2.06-.94 2.06-2.06.94z\"/><path d=\"M17.41 7.96l-1.37-1.37c-.4-.4-.92-.59-1.43-.59-.52 0-1.04.2-1.43.59L10.3 9.45l-7.72 7.72c-.78.78-.78 2.05 0 2.83L4 21.41c.39.39.9.59 1.41.59.51 0 1.02-.2 1.41-.59l7.78-7.78 2.81-2.81c.8-.78.8-2.07 0-2.86zM5.41 20L4 18.59l7.72-7.72 1.47 1.35L5.41 20z\"/>\n",
              "  </svg>\n",
              "      </button>\n",
              "      \n",
              "  <style>\n",
              "    .colab-df-container {\n",
              "      display:flex;\n",
              "      flex-wrap:wrap;\n",
              "      gap: 12px;\n",
              "    }\n",
              "\n",
              "    .colab-df-convert {\n",
              "      background-color: #E8F0FE;\n",
              "      border: none;\n",
              "      border-radius: 50%;\n",
              "      cursor: pointer;\n",
              "      display: none;\n",
              "      fill: #1967D2;\n",
              "      height: 32px;\n",
              "      padding: 0 0 0 0;\n",
              "      width: 32px;\n",
              "    }\n",
              "\n",
              "    .colab-df-convert:hover {\n",
              "      background-color: #E2EBFA;\n",
              "      box-shadow: 0px 1px 2px rgba(60, 64, 67, 0.3), 0px 1px 3px 1px rgba(60, 64, 67, 0.15);\n",
              "      fill: #174EA6;\n",
              "    }\n",
              "\n",
              "    [theme=dark] .colab-df-convert {\n",
              "      background-color: #3B4455;\n",
              "      fill: #D2E3FC;\n",
              "    }\n",
              "\n",
              "    [theme=dark] .colab-df-convert:hover {\n",
              "      background-color: #434B5C;\n",
              "      box-shadow: 0px 1px 3px 1px rgba(0, 0, 0, 0.15);\n",
              "      filter: drop-shadow(0px 1px 2px rgba(0, 0, 0, 0.3));\n",
              "      fill: #FFFFFF;\n",
              "    }\n",
              "  </style>\n",
              "\n",
              "      <script>\n",
              "        const buttonEl =\n",
              "          document.querySelector('#df-2d9768ca-9186-4192-91bc-049c71259de3 button.colab-df-convert');\n",
              "        buttonEl.style.display =\n",
              "          google.colab.kernel.accessAllowed ? 'block' : 'none';\n",
              "\n",
              "        async function convertToInteractive(key) {\n",
              "          const element = document.querySelector('#df-2d9768ca-9186-4192-91bc-049c71259de3');\n",
              "          const dataTable =\n",
              "            await google.colab.kernel.invokeFunction('convertToInteractive',\n",
              "                                                     [key], {});\n",
              "          if (!dataTable) return;\n",
              "\n",
              "          const docLinkHtml = 'Like what you see? Visit the ' +\n",
              "            '<a target=\"_blank\" href=https://colab.research.google.com/notebooks/data_table.ipynb>data table notebook</a>'\n",
              "            + ' to learn more about interactive tables.';\n",
              "          element.innerHTML = '';\n",
              "          dataTable['output_type'] = 'display_data';\n",
              "          await google.colab.output.renderOutput(dataTable, element);\n",
              "          const docLink = document.createElement('div');\n",
              "          docLink.innerHTML = docLinkHtml;\n",
              "          element.appendChild(docLink);\n",
              "        }\n",
              "      </script>\n",
              "    </div>\n",
              "  </div>\n",
              "  "
            ]
          },
          "metadata": {},
          "execution_count": 33
        }
      ]
    }
  ]
}